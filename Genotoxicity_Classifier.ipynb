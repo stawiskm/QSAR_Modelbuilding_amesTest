{
  "cells": [
    {
      "cell_type": "markdown",
      "metadata": {
        "id": "view-in-github",
        "colab_type": "text"
      },
      "source": [
        "<a href=\"https://colab.research.google.com/github/stawiskm/QSAR_Modelbuilding_amesTest/blob/main/Genotoxicity_Classifier.ipynb\" target=\"_parent\"><img src=\"https://colab.research.google.com/assets/colab-badge.svg\" alt=\"Open In Colab\"/></a>"
      ]
    },
    {
      "cell_type": "markdown",
      "metadata": {
        "id": "7AAfh_j7hSwQ"
      },
      "source": [
        "# **Bioinformatics Project - Computational AMES Test Classification models with RF and LightGBM**\n",
        "\n",
        "Marc Jermann\n",
        "\n",
        "In this Jupyter notebook, we will be building a real-life **data science project**. Particularly, we will be building a machine learning model using the data found in [Paper](https://doi.org/10.1016/j.jmgm.2021.108011).\n",
        "\n",
        "Train: https://ars.els-cdn.com/content/image/1-s2.0-S1093326321001820-mmc8.csv\n",
        "\n",
        "Test: https://ars.els-cdn.com/content/image/1-s2.0-S1093326321001820-mmc7.csv\n",
        "\n",
        "Chapter 2 and 3 can be skipped. Preprocessd data downloadable from Github repository.\n",
        "\n",
        "---"
      ]
    },
    {
      "cell_type": "markdown",
      "metadata": {
        "id": "jw7MqTMphSwR"
      },
      "source": [
        "## **1. Import libraries**"
      ]
    },
    {
      "cell_type": "markdown",
      "source": [
        "First of all, all the required libraries are imported. The most important are Pandas for data handling and Scikit learn and LightGBM for the supervised machine learning models."
      ],
      "metadata": {
        "id": "wvgLtjJ80xE9"
      }
    },
    {
      "cell_type": "code",
      "execution_count": 35,
      "metadata": {
        "id": "D3rFTNAIhSwS"
      },
      "outputs": [],
      "source": [
        "import time\n",
        "import requests\n",
        "import ast\n",
        "import pandas as pd\n",
        "import seaborn as sns\n",
        "import matplotlib.pyplot as plt\n",
        "\n",
        "from sklearn.ensemble import RandomForestClassifier\n",
        "from lightgbm import LGBMClassifier\n",
        "\n",
        "from sklearn.model_selection import StratifiedKFold\n",
        "from sklearn.model_selection import GridSearchCV\n",
        "from sklearn.metrics import make_scorer\n",
        "from sklearn.metrics import accuracy_score,precision_score,recall_score,roc_auc_score"
      ]
    },
    {
      "cell_type": "markdown",
      "metadata": {
        "id": "0GvT3PArhSwX"
      },
      "source": [
        "## **2. Download the data sets**\n"
      ]
    },
    {
      "cell_type": "markdown",
      "source": [
        "Freely available small molecules with their genotoxic properties were retrieved from C. S. M. Chu et al.. We used  their data as the data basis, with a total of 5395 molecules split into two sets.​\n",
        "The data is downloaded directly from the publisher website."
      ],
      "metadata": {
        "id": "n_VSzYRZ0slb"
      }
    },
    {
      "cell_type": "code",
      "execution_count": null,
      "metadata": {
        "id": "cSgppzqPiR0G"
      },
      "outputs": [],
      "source": [
        "url = 'https://ars.els-cdn.com/content/image/1-s2.0-S1093326321001820-mmc8.csv'\n",
        "# Downloading the file by sending the request to the URL\n",
        "req = requests.get(url, allow_redirects=True)\n",
        "# Split URL to get the file name\n",
        "filename = url.split('/')[-1]\n",
        "\n",
        "# Writing the file to the local file system\n",
        "with open(filename, 'wb') as output_file:\n",
        "    output_file.write(req.content)\n",
        "\n",
        "df_raw = pd.read_csv(\"1-s2.0-S1093326321001820-mmc8.csv\")"
      ]
    },
    {
      "cell_type": "code",
      "source": [
        "url = 'https://ars.els-cdn.com/content/image/1-s2.0-S1093326321001820-mmc7.csv'\n",
        "# Downloading the file by sending the request to the URL\n",
        "req = requests.get(url, allow_redirects=True)\n",
        "# Split URL to get the file name\n",
        "filename = url.split('/')[-1]\n",
        "\n",
        "# Writing the file to the local file system\n",
        "with open(filename, 'wb') as output_file:\n",
        "    output_file.write(req.content)\n",
        "\n",
        "df_Test_raw = pd.read_csv(\"1-s2.0-S1093326321001820-mmc7.csv\")"
      ],
      "metadata": {
        "id": "tSX_dXx7FOMY"
      },
      "execution_count": null,
      "outputs": []
    },
    {
      "cell_type": "code",
      "source": [
        "df_raw.columns = ['canonical_smiles', 'class']\n",
        "df_Test_raw.columns = ['canonical_smiles', 'class']\n",
        "df_raw['class'] = df_raw['class'].replace({'non-mutagens':'Non-toxic'})\n",
        "df_raw['class'] = df_raw['class'].replace({'mutagens':'Toxic'})\n",
        "df_Test_raw['class'] = df_Test_raw['class'].replace({'non-mutagens':'Non-toxic'})\n",
        "df_Test_raw['class'] = df_Test_raw['class'].replace({'mutagens':'Toxic'})"
      ],
      "metadata": {
        "id": "qbF35xUkFhmf"
      },
      "execution_count": null,
      "outputs": []
    },
    {
      "cell_type": "code",
      "source": [
        "def cleanSMILES(row):\n",
        "    cpd = str(row.canonical_smiles).split('.')\n",
        "    cpd_longest = max(cpd, key = len)\n",
        "    return cpd_longest"
      ],
      "metadata": {
        "id": "N-VHNDe4QRLn"
      },
      "execution_count": null,
      "outputs": []
    },
    {
      "cell_type": "code",
      "execution_count": null,
      "metadata": {
        "id": "7AMm19NW0bJR"
      },
      "outputs": [],
      "source": [
        "df_raw['smiles'] = df_raw.apply(cleanSMILES ,axis=1)\n",
        "df_Test_raw['smiles'] = df_Test_raw.apply(cleanSMILES ,axis=1)"
      ]
    },
    {
      "cell_type": "code",
      "source": [
        "df_raw = df_raw.drop(\"canonical_smiles\",axis=1)\n",
        "df_raw = df_raw.rename({\"smiles\":\"canonical_smiles\"},axis=1)\n",
        "df_Test_raw = df_Test_raw.drop(\"canonical_smiles\",axis=1)\n",
        "df_Test_raw = df_Test_raw.rename({\"smiles\":\"canonical_smiles\"},axis=1)"
      ],
      "metadata": {
        "id": "zcW-JgyfSGKl"
      },
      "execution_count": null,
      "outputs": []
    },
    {
      "cell_type": "markdown",
      "metadata": {
        "id": "YzN_S4Quro5S"
      },
      "source": [
        "## **3. Calculate Lipinski descriptors**\n",
        "Christopher Lipinski, a scientist at Pfizer, came up with a set of rule-of-thumb for evaluating the **druglikeness** of compounds. Such druglikeness is based on the Absorption, Distribution, Metabolism and Excretion (ADME) that is also known as the pharmacokinetic profile. Lipinski analyzed all orally active FDA-approved drugs in the formulation of what is to be known as the **Rule-of-Five** or **Lipinski's Rule**.\n",
        "\n",
        "The Lipinski's Rule stated the following:\n",
        "* Molecular weight < 500 Dalton\n",
        "* Octanol-water partition coefficient (LogP) < 5\n",
        "* Hydrogen bond donors < 5\n",
        "* Hydrogen bond acceptors < 10 "
      ]
    },
    {
      "cell_type": "markdown",
      "metadata": {
        "id": "9qn_eQcnxY7C"
      },
      "source": [
        "### **3.1 Lipinski Import libraries**"
      ]
    },
    {
      "cell_type": "code",
      "source": [
        "! wget https://repo.anaconda.com/miniconda/Miniconda3-py37_4.8.2-Linux-x86_64.sh\n",
        "! chmod +x Miniconda3-py37_4.8.2-Linux-x86_64.sh\n",
        "! bash ./Miniconda3-py37_4.8.2-Linux-x86_64.sh -b -f -p /usr/local\n",
        "! conda install -c rdkit rdkit -y\n",
        "import sys\n",
        "sys.path.append('/usr/local/lib/python3.7/site-packages/')"
      ],
      "metadata": {
        "id": "-Gq2vNdTIIW0"
      },
      "execution_count": null,
      "outputs": []
    },
    {
      "cell_type": "code",
      "execution_count": null,
      "metadata": {
        "id": "CgBjIdT-rnRU"
      },
      "outputs": [],
      "source": [
        "import numpy as np\n",
        "from rdkit import Chem\n",
        "from rdkit.Chem import Descriptors, Lipinski"
      ]
    },
    {
      "cell_type": "markdown",
      "metadata": {
        "id": "JsgTV-ByxdMa"
      },
      "source": [
        "### **3.2 Calculate descriptors**\n",
        "\n",
        "\"MW\",\"LogP\",\"NumHDonors\",\"NumHAcceptors\""
      ]
    },
    {
      "cell_type": "code",
      "execution_count": null,
      "metadata": {
        "id": "bCXEY7a9ugO_"
      },
      "outputs": [],
      "source": [
        "# Inspired by: https://codeocean.com/explore/capsules?query=tag:data-curation\n",
        "\n",
        "def lipinski(row):\n",
        "\n",
        "    elem = row.canonical_smiles\n",
        "    mol=Chem.MolFromSmiles(elem)           \n",
        "       \n",
        "    desc_MolWt = Descriptors.MolWt(mol)\n",
        "    desc_MolLogP = Descriptors.MolLogP(mol)\n",
        "    desc_NumHDonors = Lipinski.NumHDonors(mol)\n",
        "    desc_NumHAcceptors = Lipinski.NumHAcceptors(mol)\n",
        "           \n",
        "    lip = [desc_MolWt,\n",
        "           desc_MolLogP,\n",
        "           desc_NumHDonors,\n",
        "           desc_NumHAcceptors]   \n",
        "           \n",
        "    return lip"
      ]
    },
    {
      "cell_type": "code",
      "source": [
        "df_lip = df_raw[[\"class\",\"canonical_smiles\"]]"
      ],
      "metadata": {
        "id": "f50607xIQ2sa"
      },
      "execution_count": null,
      "outputs": []
    },
    {
      "cell_type": "code",
      "execution_count": null,
      "metadata": {
        "id": "ThFIFw8IukMY"
      },
      "outputs": [],
      "source": [
        "df_lip[[\"MW\",\"LogP\",\"NumHDonors\",\"NumHAcceptors\"]]   = df_lip.apply(lipinski,axis=1, result_type ='expand')"
      ]
    },
    {
      "cell_type": "code",
      "source": [
        "df_lip.to_csv('QSAR_train_lipinskidata.csv', index=False)"
      ],
      "metadata": {
        "id": "NFKyWb-fQgT8"
      },
      "execution_count": null,
      "outputs": []
    },
    {
      "cell_type": "markdown",
      "metadata": {
        "id": "p9vA4-hQQ8sA"
      },
      "source": [
        "---"
      ]
    },
    {
      "cell_type": "markdown",
      "metadata": {
        "id": "x0vqbQWfxsZu"
      },
      "source": [
        "## **4. Exploratory Data Analysis (Chemical Space Analysis) via Lipinski descriptors**"
      ]
    },
    {
      "cell_type": "markdown",
      "metadata": {
        "id": "18heJagiyHoF"
      },
      "source": [
        "### **4.1 Import library**"
      ]
    },
    {
      "cell_type": "code",
      "execution_count": null,
      "metadata": {
        "id": "0Egq_rNsxtIj"
      },
      "outputs": [],
      "source": [
        "import seaborn as sns\n",
        "sns.set(style='ticks')\n",
        "import matplotlib.pyplot as plt"
      ]
    },
    {
      "cell_type": "markdown",
      "metadata": {
        "id": "NiarmFbOdG3H"
      },
      "source": [
        "### **4.2 Frequency plot of the 2 bioactivity classes**"
      ]
    },
    {
      "cell_type": "code",
      "execution_count": null,
      "metadata": {
        "id": "w2Ia0iycdMO2"
      },
      "outputs": [],
      "source": [
        "plt.figure(figsize=(5.5, 5.5))\n",
        "\n",
        "sns.countplot(x='class', data=df_lip, edgecolor='black')\n",
        "\n",
        "plt.xlabel('Bioactivity class', fontsize=14, fontweight='bold')\n",
        "plt.ylabel('Frequency', fontsize=14, fontweight='bold')\n",
        "\n",
        "plt.savefig('plot_bioactivity_class.pdf')"
      ]
    },
    {
      "cell_type": "markdown",
      "metadata": {
        "id": "wB68NKVG0j68"
      },
      "source": [
        "### **4.3 Scatter plot of MW versus LogP**\n",
        "\n",
        "It can be seen that the 2 bioactivity classes are spanning similar chemical spaces as evident by the scatter plot of MW vs LogP."
      ]
    },
    {
      "cell_type": "code",
      "execution_count": null,
      "metadata": {
        "id": "F79BNwjF0nub"
      },
      "outputs": [],
      "source": [
        "plt.figure(figsize=(5.5, 5.5))\n",
        "\n",
        "sns.scatterplot(x='MW', y='LogP', data=df_lip, hue='class', edgecolor='black', alpha=0.7)\n",
        "\n",
        "plt.xlabel('MW', fontsize=14, fontweight='bold')\n",
        "plt.ylabel('LogP', fontsize=14, fontweight='bold')\n",
        "plt.legend(bbox_to_anchor=(1.05, 1), loc=2, borderaxespad=0)\n",
        "plt.savefig('plot_MW_vs_LogP.pdf')"
      ]
    },
    {
      "cell_type": "markdown",
      "metadata": {
        "id": "oLAfyRwHyJfX"
      },
      "source": [
        "### **4.4 Box plots**"
      ]
    },
    {
      "cell_type": "markdown",
      "metadata": {
        "id": "PsOqKyysCZCv"
      },
      "source": [
        "**Statistical analysis | Mann-Whitney U Test**"
      ]
    },
    {
      "cell_type": "code",
      "execution_count": null,
      "metadata": {
        "id": "LPdV1vDnWBsh"
      },
      "outputs": [],
      "source": [
        "def mannwhitney(descriptor, verbose=False):\n",
        "  # https://machinelearningmastery.com/nonparametric-statistical-significance-tests-in-python/\n",
        "  from numpy.random import seed\n",
        "  from numpy.random import randn\n",
        "  from scipy.stats import mannwhitneyu\n",
        "\n",
        "# seed the random number generator\n",
        "  seed(1)\n",
        "\n",
        "# actives and inactives\n",
        "  selection = [descriptor, 'class']\n",
        "  df = df_lip[selection]\n",
        "  active = df[df['class'] == 'Toxic']\n",
        "  active = active[descriptor]\n",
        "\n",
        "  selection = [descriptor, 'class']\n",
        "  df = df_lip[selection]\n",
        "  inactive = df[df['class'] == 'Non-toxic']\n",
        "  inactive = inactive[descriptor]\n",
        "\n",
        "# compare samples\n",
        "  stat, p = mannwhitneyu(active, inactive)\n",
        "  #print('Statistics=%.3f, p=%.3f' % (stat, p))\n",
        "\n",
        "# interpret\n",
        "  alpha = 0.05\n",
        "  if p > alpha:\n",
        "    interpretation = 'Same distribution (fail to reject H0)'\n",
        "  else:\n",
        "    interpretation = 'Different distribution (reject H0)'\n",
        "  \n",
        "  results = pd.DataFrame({'Descriptor':descriptor,\n",
        "                          'Statistics':stat,\n",
        "                          'p':p,\n",
        "                          'alpha':alpha,\n",
        "                          'Interpretation':interpretation}, index=[0])\n",
        "  filename = 'mannwhitneyu_' + descriptor + '.csv'\n",
        "  results.to_csv(filename)\n",
        "\n",
        "  return results"
      ]
    },
    {
      "cell_type": "markdown",
      "metadata": {
        "id": "o2UlCwPmyTBq"
      },
      "source": [
        "#### **MW**"
      ]
    },
    {
      "cell_type": "code",
      "execution_count": null,
      "metadata": {
        "id": "ZNlEEsDEx3m6"
      },
      "outputs": [],
      "source": [
        "plt.figure(figsize=(5.5, 5.5))\n",
        "\n",
        "sns.boxplot(x = 'class', y = 'MW', data = df_lip)\n",
        "\n",
        "plt.xlabel('Bioactivity class', fontsize=14, fontweight='bold')\n",
        "plt.ylabel('MW', fontsize=14, fontweight='bold')\n",
        "\n",
        "plt.savefig('plot_MW.pdf')"
      ]
    },
    {
      "cell_type": "code",
      "execution_count": null,
      "metadata": {
        "id": "wRl2FvgHYqaG"
      },
      "outputs": [],
      "source": [
        "mannwhitney('MW')"
      ]
    },
    {
      "cell_type": "markdown",
      "metadata": {
        "id": "z5hyBhGqyc6J"
      },
      "source": [
        "#### **LogP**"
      ]
    },
    {
      "cell_type": "code",
      "execution_count": null,
      "metadata": {
        "id": "liEtkpI4yX9t"
      },
      "outputs": [],
      "source": [
        "plt.figure(figsize=(5.5, 5.5))\n",
        "\n",
        "sns.boxplot(x = 'class', y = 'LogP', data = df_lip)\n",
        "\n",
        "plt.xlabel('Bioactivity class', fontsize=14, fontweight='bold')\n",
        "plt.ylabel('LogP', fontsize=14, fontweight='bold')\n",
        "\n",
        "plt.savefig('plot_LogP.pdf')"
      ]
    },
    {
      "cell_type": "markdown",
      "metadata": {
        "id": "2KgV5v_oFLXh"
      },
      "source": [
        "**Statistical analysis | Mann-Whitney U Test**"
      ]
    },
    {
      "cell_type": "code",
      "execution_count": null,
      "metadata": {
        "id": "B61UsGMIFLuE"
      },
      "outputs": [],
      "source": [
        "mannwhitney('LogP')"
      ]
    },
    {
      "cell_type": "markdown",
      "metadata": {
        "id": "4db7LZLRym2k"
      },
      "source": [
        "#### **NumHDonors**"
      ]
    },
    {
      "cell_type": "code",
      "execution_count": null,
      "metadata": {
        "id": "iru1JPM1yg5A"
      },
      "outputs": [],
      "source": [
        "plt.figure(figsize=(5.5, 5.5))\n",
        "\n",
        "sns.boxplot(x = 'class', y = 'NumHDonors', data = df_lip)\n",
        "\n",
        "plt.xlabel('Bioactivity class', fontsize=14, fontweight='bold')\n",
        "plt.ylabel('NumHDonors', fontsize=14, fontweight='bold')\n",
        "\n",
        "plt.savefig('plot_NumHDonors.pdf')"
      ]
    },
    {
      "cell_type": "markdown",
      "metadata": {
        "id": "vM5vZWanFe3c"
      },
      "source": [
        "**Statistical analysis | Mann-Whitney U Test**"
      ]
    },
    {
      "cell_type": "code",
      "execution_count": null,
      "metadata": {
        "id": "mS-rOqq7Fd1E"
      },
      "outputs": [],
      "source": [
        "mannwhitney('NumHDonors')"
      ]
    },
    {
      "cell_type": "markdown",
      "metadata": {
        "id": "yOYQ3QiSyu7-"
      },
      "source": [
        "#### **NumHAcceptors**"
      ]
    },
    {
      "cell_type": "code",
      "execution_count": null,
      "metadata": {
        "id": "yCw6tgNCyxHf"
      },
      "outputs": [],
      "source": [
        "plt.figure(figsize=(5.5, 5.5))\n",
        "\n",
        "sns.boxplot(x = 'class', y = 'NumHAcceptors', data = df_lip)\n",
        "\n",
        "plt.xlabel('Bioactivity class', fontsize=14, fontweight='bold')\n",
        "plt.ylabel('NumHAcceptors', fontsize=14, fontweight='bold')\n",
        "\n",
        "plt.savefig('plot_NumHAcceptors.pdf')"
      ]
    },
    {
      "cell_type": "code",
      "execution_count": null,
      "metadata": {
        "id": "NEQoDZctFtGG"
      },
      "outputs": [],
      "source": [
        "mannwhitney('NumHAcceptors')"
      ]
    },
    {
      "cell_type": "markdown",
      "metadata": {
        "id": "o-4IOizard4P"
      },
      "source": [
        "## **5. Feature encoding with PaDEL-Descriptor**"
      ]
    },
    {
      "cell_type": "markdown",
      "source": [
        "### **5.1 Download PaDEL-Descriptor**"
      ],
      "metadata": {
        "id": "wXSu8RBAHTMt"
      }
    },
    {
      "cell_type": "markdown",
      "source": [
        "The feature encoding of a symbolic representation of a molecule encoded chemical information into a useful number or the result of a standardized experiment, can be achieved using the open-source software PaDEL-Descriptor, which is downloaded from a Github repository.\n",
        "\n",
        "The PaDEL-descriptor tool which is built in Java, can be executed in the colab notebook as well via a bash shell command. This is done separately for train and test set."
      ],
      "metadata": {
        "id": "4GD7SUwB0pds"
      }
    },
    {
      "cell_type": "code",
      "metadata": {
        "id": "H0mjQ2PcrSe5"
      },
      "source": [
        "! wget https://github.com/dataprofessor/bioinformatics/raw/master/padel.zip\n",
        "! wget https://github.com/dataprofessor/bioinformatics/raw/master/padel.sh"
      ],
      "execution_count": null,
      "outputs": []
    },
    {
      "cell_type": "code",
      "metadata": {
        "id": "64HnTL4tS-nA"
      },
      "source": [
        "! unzip padel.zip"
      ],
      "execution_count": null,
      "outputs": []
    },
    {
      "cell_type": "markdown",
      "source": [
        "### **5.2 Calculate Fingerprint and descriptors Traindata**"
      ],
      "metadata": {
        "id": "_Tozzp2fHgk3"
      }
    },
    {
      "cell_type": "code",
      "metadata": {
        "id": "BJDJkY43R-9F"
      },
      "source": [
        "df_raw[[\"canonical_smiles\",\"class\"]].to_csv('molecule.smi', sep='\\t', index=False, header=False)\n",
        "! bash padel.sh\n",
        "df = pd.read_csv('descriptors_output.csv')\n",
        "df = df.rename({'Name': 'class'}, axis='columns')\n",
        "df.to_csv('QSAR_DescriptorData_train.csv', index=False)"
      ],
      "execution_count": null,
      "outputs": []
    },
    {
      "cell_type": "markdown",
      "source": [
        "### **5.3 Calculate Fingerprint and descriptors Testdata**"
      ],
      "metadata": {
        "id": "BSy10Q_HKWnu"
      }
    },
    {
      "cell_type": "code",
      "source": [
        "df_Test_raw[[\"canonical_smiles\",\"class\"]].to_csv('molecule.smi', sep='\\t', index=False, header=False)\n",
        "! bash padel.sh\n",
        "df_Test = pd.read_csv('descriptors_output.csv')\n",
        "df_Test = df_Test.rename({'Name': 'class'}, axis='columns')\n",
        "df_Test.to_csv('QSAR_DescriptorData_test.csv', index=False)"
      ],
      "metadata": {
        "id": "XjJ_gnaoKrUW"
      },
      "execution_count": null,
      "outputs": []
    },
    {
      "cell_type": "markdown",
      "metadata": {
        "id": "kuiiC0xthSwb"
      },
      "source": [
        "## **6. Data handling**"
      ]
    },
    {
      "cell_type": "markdown",
      "source": [
        "In the data handling chapter, the data is converted into the data formats required for machine learning."
      ],
      "metadata": {
        "id": "ssu74Wll0Q4R"
      }
    },
    {
      "cell_type": "code",
      "source": [
        "df = pd.read_csv(\"https://github.com/stawiskm/QSAR_Modelbuilding_amesTest/raw/main/data/QSAR_DescriptorData_train.csv\")\n",
        "df_Test = pd.read_csv(\"https://github.com/stawiskm/QSAR_Modelbuilding_amesTest/raw/main/data/QSAR_DescriptorData_test.csv\")"
      ],
      "metadata": {
        "id": "VjtMi-BJR9Jp"
      },
      "execution_count": 45,
      "outputs": []
    },
    {
      "cell_type": "markdown",
      "source": [
        "The ***Ames test*** data set contains 881 input features and 1 output variable (class values)."
      ],
      "metadata": {
        "id": "MDAayG0b0cXL"
      }
    },
    {
      "cell_type": "code",
      "source": [
        "df.sample(5)"
      ],
      "metadata": {
        "id": "w5SeW8KdhVz-",
        "colab": {
          "base_uri": "https://localhost:8080/",
          "height": 334
        },
        "outputId": "7c755658-a8f6-4416-a950-fdfa6fec1923"
      },
      "execution_count": 46,
      "outputs": [
        {
          "output_type": "execute_result",
          "data": {
            "text/plain": [
              "          class  PubchemFP0  PubchemFP1  PubchemFP2  PubchemFP3  PubchemFP4  \\\n",
              "2594      Toxic           1           1           0           0           0   \n",
              "3766      Toxic           1           1           0           0           0   \n",
              "3394  Non-toxic           1           1           1           0           0   \n",
              "581   Non-toxic           1           1           0           0           0   \n",
              "1671      Toxic           1           0           0           0           0   \n",
              "\n",
              "      PubchemFP5  PubchemFP6  PubchemFP7  PubchemFP8  ...  PubchemFP871  \\\n",
              "2594           0           0           0           0  ...             0   \n",
              "3766           0           0           0           0  ...             0   \n",
              "3394           0           0           0           0  ...             0   \n",
              "581            0           0           0           0  ...             0   \n",
              "1671           0           0           0           0  ...             0   \n",
              "\n",
              "      PubchemFP872  PubchemFP873  PubchemFP874  PubchemFP875  PubchemFP876  \\\n",
              "2594             0             0             0             0             0   \n",
              "3766             0             0             0             0             0   \n",
              "3394             0             0             0             0             0   \n",
              "581              0             0             0             0             0   \n",
              "1671             0             0             0             0             0   \n",
              "\n",
              "      PubchemFP877  PubchemFP878  PubchemFP879  PubchemFP880  \n",
              "2594             0             0             0             0  \n",
              "3766             0             0             0             0  \n",
              "3394             0             0             0             0  \n",
              "581              0             0             0             0  \n",
              "1671             0             0             0             0  \n",
              "\n",
              "[5 rows x 882 columns]"
            ],
            "text/html": [
              "\n",
              "  <div id=\"df-dedd3766-922f-4690-a8c1-90d70e66a9cd\">\n",
              "    <div class=\"colab-df-container\">\n",
              "      <div>\n",
              "<style scoped>\n",
              "    .dataframe tbody tr th:only-of-type {\n",
              "        vertical-align: middle;\n",
              "    }\n",
              "\n",
              "    .dataframe tbody tr th {\n",
              "        vertical-align: top;\n",
              "    }\n",
              "\n",
              "    .dataframe thead th {\n",
              "        text-align: right;\n",
              "    }\n",
              "</style>\n",
              "<table border=\"1\" class=\"dataframe\">\n",
              "  <thead>\n",
              "    <tr style=\"text-align: right;\">\n",
              "      <th></th>\n",
              "      <th>class</th>\n",
              "      <th>PubchemFP0</th>\n",
              "      <th>PubchemFP1</th>\n",
              "      <th>PubchemFP2</th>\n",
              "      <th>PubchemFP3</th>\n",
              "      <th>PubchemFP4</th>\n",
              "      <th>PubchemFP5</th>\n",
              "      <th>PubchemFP6</th>\n",
              "      <th>PubchemFP7</th>\n",
              "      <th>PubchemFP8</th>\n",
              "      <th>...</th>\n",
              "      <th>PubchemFP871</th>\n",
              "      <th>PubchemFP872</th>\n",
              "      <th>PubchemFP873</th>\n",
              "      <th>PubchemFP874</th>\n",
              "      <th>PubchemFP875</th>\n",
              "      <th>PubchemFP876</th>\n",
              "      <th>PubchemFP877</th>\n",
              "      <th>PubchemFP878</th>\n",
              "      <th>PubchemFP879</th>\n",
              "      <th>PubchemFP880</th>\n",
              "    </tr>\n",
              "  </thead>\n",
              "  <tbody>\n",
              "    <tr>\n",
              "      <th>2594</th>\n",
              "      <td>Toxic</td>\n",
              "      <td>1</td>\n",
              "      <td>1</td>\n",
              "      <td>0</td>\n",
              "      <td>0</td>\n",
              "      <td>0</td>\n",
              "      <td>0</td>\n",
              "      <td>0</td>\n",
              "      <td>0</td>\n",
              "      <td>0</td>\n",
              "      <td>...</td>\n",
              "      <td>0</td>\n",
              "      <td>0</td>\n",
              "      <td>0</td>\n",
              "      <td>0</td>\n",
              "      <td>0</td>\n",
              "      <td>0</td>\n",
              "      <td>0</td>\n",
              "      <td>0</td>\n",
              "      <td>0</td>\n",
              "      <td>0</td>\n",
              "    </tr>\n",
              "    <tr>\n",
              "      <th>3766</th>\n",
              "      <td>Toxic</td>\n",
              "      <td>1</td>\n",
              "      <td>1</td>\n",
              "      <td>0</td>\n",
              "      <td>0</td>\n",
              "      <td>0</td>\n",
              "      <td>0</td>\n",
              "      <td>0</td>\n",
              "      <td>0</td>\n",
              "      <td>0</td>\n",
              "      <td>...</td>\n",
              "      <td>0</td>\n",
              "      <td>0</td>\n",
              "      <td>0</td>\n",
              "      <td>0</td>\n",
              "      <td>0</td>\n",
              "      <td>0</td>\n",
              "      <td>0</td>\n",
              "      <td>0</td>\n",
              "      <td>0</td>\n",
              "      <td>0</td>\n",
              "    </tr>\n",
              "    <tr>\n",
              "      <th>3394</th>\n",
              "      <td>Non-toxic</td>\n",
              "      <td>1</td>\n",
              "      <td>1</td>\n",
              "      <td>1</td>\n",
              "      <td>0</td>\n",
              "      <td>0</td>\n",
              "      <td>0</td>\n",
              "      <td>0</td>\n",
              "      <td>0</td>\n",
              "      <td>0</td>\n",
              "      <td>...</td>\n",
              "      <td>0</td>\n",
              "      <td>0</td>\n",
              "      <td>0</td>\n",
              "      <td>0</td>\n",
              "      <td>0</td>\n",
              "      <td>0</td>\n",
              "      <td>0</td>\n",
              "      <td>0</td>\n",
              "      <td>0</td>\n",
              "      <td>0</td>\n",
              "    </tr>\n",
              "    <tr>\n",
              "      <th>581</th>\n",
              "      <td>Non-toxic</td>\n",
              "      <td>1</td>\n",
              "      <td>1</td>\n",
              "      <td>0</td>\n",
              "      <td>0</td>\n",
              "      <td>0</td>\n",
              "      <td>0</td>\n",
              "      <td>0</td>\n",
              "      <td>0</td>\n",
              "      <td>0</td>\n",
              "      <td>...</td>\n",
              "      <td>0</td>\n",
              "      <td>0</td>\n",
              "      <td>0</td>\n",
              "      <td>0</td>\n",
              "      <td>0</td>\n",
              "      <td>0</td>\n",
              "      <td>0</td>\n",
              "      <td>0</td>\n",
              "      <td>0</td>\n",
              "      <td>0</td>\n",
              "    </tr>\n",
              "    <tr>\n",
              "      <th>1671</th>\n",
              "      <td>Toxic</td>\n",
              "      <td>1</td>\n",
              "      <td>0</td>\n",
              "      <td>0</td>\n",
              "      <td>0</td>\n",
              "      <td>0</td>\n",
              "      <td>0</td>\n",
              "      <td>0</td>\n",
              "      <td>0</td>\n",
              "      <td>0</td>\n",
              "      <td>...</td>\n",
              "      <td>0</td>\n",
              "      <td>0</td>\n",
              "      <td>0</td>\n",
              "      <td>0</td>\n",
              "      <td>0</td>\n",
              "      <td>0</td>\n",
              "      <td>0</td>\n",
              "      <td>0</td>\n",
              "      <td>0</td>\n",
              "      <td>0</td>\n",
              "    </tr>\n",
              "  </tbody>\n",
              "</table>\n",
              "<p>5 rows × 882 columns</p>\n",
              "</div>\n",
              "      <button class=\"colab-df-convert\" onclick=\"convertToInteractive('df-dedd3766-922f-4690-a8c1-90d70e66a9cd')\"\n",
              "              title=\"Convert this dataframe to an interactive table.\"\n",
              "              style=\"display:none;\">\n",
              "        \n",
              "  <svg xmlns=\"http://www.w3.org/2000/svg\" height=\"24px\"viewBox=\"0 0 24 24\"\n",
              "       width=\"24px\">\n",
              "    <path d=\"M0 0h24v24H0V0z\" fill=\"none\"/>\n",
              "    <path d=\"M18.56 5.44l.94 2.06.94-2.06 2.06-.94-2.06-.94-.94-2.06-.94 2.06-2.06.94zm-11 1L8.5 8.5l.94-2.06 2.06-.94-2.06-.94L8.5 2.5l-.94 2.06-2.06.94zm10 10l.94 2.06.94-2.06 2.06-.94-2.06-.94-.94-2.06-.94 2.06-2.06.94z\"/><path d=\"M17.41 7.96l-1.37-1.37c-.4-.4-.92-.59-1.43-.59-.52 0-1.04.2-1.43.59L10.3 9.45l-7.72 7.72c-.78.78-.78 2.05 0 2.83L4 21.41c.39.39.9.59 1.41.59.51 0 1.02-.2 1.41-.59l7.78-7.78 2.81-2.81c.8-.78.8-2.07 0-2.86zM5.41 20L4 18.59l7.72-7.72 1.47 1.35L5.41 20z\"/>\n",
              "  </svg>\n",
              "      </button>\n",
              "      \n",
              "  <style>\n",
              "    .colab-df-container {\n",
              "      display:flex;\n",
              "      flex-wrap:wrap;\n",
              "      gap: 12px;\n",
              "    }\n",
              "\n",
              "    .colab-df-convert {\n",
              "      background-color: #E8F0FE;\n",
              "      border: none;\n",
              "      border-radius: 50%;\n",
              "      cursor: pointer;\n",
              "      display: none;\n",
              "      fill: #1967D2;\n",
              "      height: 32px;\n",
              "      padding: 0 0 0 0;\n",
              "      width: 32px;\n",
              "    }\n",
              "\n",
              "    .colab-df-convert:hover {\n",
              "      background-color: #E2EBFA;\n",
              "      box-shadow: 0px 1px 2px rgba(60, 64, 67, 0.3), 0px 1px 3px 1px rgba(60, 64, 67, 0.15);\n",
              "      fill: #174EA6;\n",
              "    }\n",
              "\n",
              "    [theme=dark] .colab-df-convert {\n",
              "      background-color: #3B4455;\n",
              "      fill: #D2E3FC;\n",
              "    }\n",
              "\n",
              "    [theme=dark] .colab-df-convert:hover {\n",
              "      background-color: #434B5C;\n",
              "      box-shadow: 0px 1px 3px 1px rgba(0, 0, 0, 0.15);\n",
              "      filter: drop-shadow(0px 1px 2px rgba(0, 0, 0, 0.3));\n",
              "      fill: #FFFFFF;\n",
              "    }\n",
              "  </style>\n",
              "\n",
              "      <script>\n",
              "        const buttonEl =\n",
              "          document.querySelector('#df-dedd3766-922f-4690-a8c1-90d70e66a9cd button.colab-df-convert');\n",
              "        buttonEl.style.display =\n",
              "          google.colab.kernel.accessAllowed ? 'block' : 'none';\n",
              "\n",
              "        async function convertToInteractive(key) {\n",
              "          const element = document.querySelector('#df-dedd3766-922f-4690-a8c1-90d70e66a9cd');\n",
              "          const dataTable =\n",
              "            await google.colab.kernel.invokeFunction('convertToInteractive',\n",
              "                                                     [key], {});\n",
              "          if (!dataTable) return;\n",
              "\n",
              "          const docLinkHtml = 'Like what you see? Visit the ' +\n",
              "            '<a target=\"_blank\" href=https://colab.research.google.com/notebooks/data_table.ipynb>data table notebook</a>'\n",
              "            + ' to learn more about interactive tables.';\n",
              "          element.innerHTML = '';\n",
              "          dataTable['output_type'] = 'display_data';\n",
              "          await google.colab.output.renderOutput(dataTable, element);\n",
              "          const docLink = document.createElement('div');\n",
              "          docLink.innerHTML = docLinkHtml;\n",
              "          element.appendChild(docLink);\n",
              "        }\n",
              "      </script>\n",
              "    </div>\n",
              "  </div>\n",
              "  "
            ]
          },
          "metadata": {},
          "execution_count": 46
        }
      ]
    },
    {
      "cell_type": "code",
      "source": [
        "print(\"Train DATA shape:\",df.shape)\n",
        "print(\"TEST DATA shape:\",df_Test.shape)"
      ],
      "metadata": {
        "id": "rBEiXKKDYCUv",
        "colab": {
          "base_uri": "https://localhost:8080/"
        },
        "outputId": "44406642-d84c-42a3-c8e9-f03cb60c7814"
      },
      "execution_count": 47,
      "outputs": [
        {
          "output_type": "stream",
          "name": "stdout",
          "text": [
            "Train DATA shape: (4402, 882)\n",
            "TEST DATA shape: (993, 882)\n"
          ]
        }
      ]
    },
    {
      "cell_type": "code",
      "execution_count": 48,
      "metadata": {
        "id": "li32nAPohSwc",
        "scrolled": true
      },
      "outputs": [],
      "source": [
        "X_train = df.drop('class', axis=1)\n",
        "X_test = df_Test.drop('class', axis=1)"
      ]
    },
    {
      "cell_type": "code",
      "execution_count": 49,
      "metadata": {
        "id": "OWylAtAVhSwh"
      },
      "outputs": [],
      "source": [
        "y_train = df[\"class\"]\n",
        "y_test = df_Test[\"class\"]"
      ]
    },
    {
      "cell_type": "code",
      "source": [
        "X_train.sample(3)"
      ],
      "metadata": {
        "id": "r1MKq4NMBWFu",
        "colab": {
          "base_uri": "https://localhost:8080/",
          "height": 237
        },
        "outputId": "5a4fdaeb-1e7e-495a-b3ac-cf80fcba05bc"
      },
      "execution_count": 50,
      "outputs": [
        {
          "output_type": "execute_result",
          "data": {
            "text/plain": [
              "      PubchemFP0  PubchemFP1  PubchemFP2  PubchemFP3  PubchemFP4  PubchemFP5  \\\n",
              "2618           1           1           0           0           0           0   \n",
              "2420           1           1           0           0           0           0   \n",
              "3217           1           0           0           0           0           0   \n",
              "\n",
              "      PubchemFP6  PubchemFP7  PubchemFP8  PubchemFP9  ...  PubchemFP871  \\\n",
              "2618           0           0           0           1  ...             0   \n",
              "2420           0           0           0           1  ...             0   \n",
              "3217           0           0           0           1  ...             0   \n",
              "\n",
              "      PubchemFP872  PubchemFP873  PubchemFP874  PubchemFP875  PubchemFP876  \\\n",
              "2618             0             0             0             0             0   \n",
              "2420             0             0             0             0             0   \n",
              "3217             0             0             0             0             0   \n",
              "\n",
              "      PubchemFP877  PubchemFP878  PubchemFP879  PubchemFP880  \n",
              "2618             0             0             0             0  \n",
              "2420             0             0             0             0  \n",
              "3217             0             0             0             0  \n",
              "\n",
              "[3 rows x 881 columns]"
            ],
            "text/html": [
              "\n",
              "  <div id=\"df-b528f9b6-f4ed-4c62-9139-1805a891b097\">\n",
              "    <div class=\"colab-df-container\">\n",
              "      <div>\n",
              "<style scoped>\n",
              "    .dataframe tbody tr th:only-of-type {\n",
              "        vertical-align: middle;\n",
              "    }\n",
              "\n",
              "    .dataframe tbody tr th {\n",
              "        vertical-align: top;\n",
              "    }\n",
              "\n",
              "    .dataframe thead th {\n",
              "        text-align: right;\n",
              "    }\n",
              "</style>\n",
              "<table border=\"1\" class=\"dataframe\">\n",
              "  <thead>\n",
              "    <tr style=\"text-align: right;\">\n",
              "      <th></th>\n",
              "      <th>PubchemFP0</th>\n",
              "      <th>PubchemFP1</th>\n",
              "      <th>PubchemFP2</th>\n",
              "      <th>PubchemFP3</th>\n",
              "      <th>PubchemFP4</th>\n",
              "      <th>PubchemFP5</th>\n",
              "      <th>PubchemFP6</th>\n",
              "      <th>PubchemFP7</th>\n",
              "      <th>PubchemFP8</th>\n",
              "      <th>PubchemFP9</th>\n",
              "      <th>...</th>\n",
              "      <th>PubchemFP871</th>\n",
              "      <th>PubchemFP872</th>\n",
              "      <th>PubchemFP873</th>\n",
              "      <th>PubchemFP874</th>\n",
              "      <th>PubchemFP875</th>\n",
              "      <th>PubchemFP876</th>\n",
              "      <th>PubchemFP877</th>\n",
              "      <th>PubchemFP878</th>\n",
              "      <th>PubchemFP879</th>\n",
              "      <th>PubchemFP880</th>\n",
              "    </tr>\n",
              "  </thead>\n",
              "  <tbody>\n",
              "    <tr>\n",
              "      <th>2618</th>\n",
              "      <td>1</td>\n",
              "      <td>1</td>\n",
              "      <td>0</td>\n",
              "      <td>0</td>\n",
              "      <td>0</td>\n",
              "      <td>0</td>\n",
              "      <td>0</td>\n",
              "      <td>0</td>\n",
              "      <td>0</td>\n",
              "      <td>1</td>\n",
              "      <td>...</td>\n",
              "      <td>0</td>\n",
              "      <td>0</td>\n",
              "      <td>0</td>\n",
              "      <td>0</td>\n",
              "      <td>0</td>\n",
              "      <td>0</td>\n",
              "      <td>0</td>\n",
              "      <td>0</td>\n",
              "      <td>0</td>\n",
              "      <td>0</td>\n",
              "    </tr>\n",
              "    <tr>\n",
              "      <th>2420</th>\n",
              "      <td>1</td>\n",
              "      <td>1</td>\n",
              "      <td>0</td>\n",
              "      <td>0</td>\n",
              "      <td>0</td>\n",
              "      <td>0</td>\n",
              "      <td>0</td>\n",
              "      <td>0</td>\n",
              "      <td>0</td>\n",
              "      <td>1</td>\n",
              "      <td>...</td>\n",
              "      <td>0</td>\n",
              "      <td>0</td>\n",
              "      <td>0</td>\n",
              "      <td>0</td>\n",
              "      <td>0</td>\n",
              "      <td>0</td>\n",
              "      <td>0</td>\n",
              "      <td>0</td>\n",
              "      <td>0</td>\n",
              "      <td>0</td>\n",
              "    </tr>\n",
              "    <tr>\n",
              "      <th>3217</th>\n",
              "      <td>1</td>\n",
              "      <td>0</td>\n",
              "      <td>0</td>\n",
              "      <td>0</td>\n",
              "      <td>0</td>\n",
              "      <td>0</td>\n",
              "      <td>0</td>\n",
              "      <td>0</td>\n",
              "      <td>0</td>\n",
              "      <td>1</td>\n",
              "      <td>...</td>\n",
              "      <td>0</td>\n",
              "      <td>0</td>\n",
              "      <td>0</td>\n",
              "      <td>0</td>\n",
              "      <td>0</td>\n",
              "      <td>0</td>\n",
              "      <td>0</td>\n",
              "      <td>0</td>\n",
              "      <td>0</td>\n",
              "      <td>0</td>\n",
              "    </tr>\n",
              "  </tbody>\n",
              "</table>\n",
              "<p>3 rows × 881 columns</p>\n",
              "</div>\n",
              "      <button class=\"colab-df-convert\" onclick=\"convertToInteractive('df-b528f9b6-f4ed-4c62-9139-1805a891b097')\"\n",
              "              title=\"Convert this dataframe to an interactive table.\"\n",
              "              style=\"display:none;\">\n",
              "        \n",
              "  <svg xmlns=\"http://www.w3.org/2000/svg\" height=\"24px\"viewBox=\"0 0 24 24\"\n",
              "       width=\"24px\">\n",
              "    <path d=\"M0 0h24v24H0V0z\" fill=\"none\"/>\n",
              "    <path d=\"M18.56 5.44l.94 2.06.94-2.06 2.06-.94-2.06-.94-.94-2.06-.94 2.06-2.06.94zm-11 1L8.5 8.5l.94-2.06 2.06-.94-2.06-.94L8.5 2.5l-.94 2.06-2.06.94zm10 10l.94 2.06.94-2.06 2.06-.94-2.06-.94-.94-2.06-.94 2.06-2.06.94z\"/><path d=\"M17.41 7.96l-1.37-1.37c-.4-.4-.92-.59-1.43-.59-.52 0-1.04.2-1.43.59L10.3 9.45l-7.72 7.72c-.78.78-.78 2.05 0 2.83L4 21.41c.39.39.9.59 1.41.59.51 0 1.02-.2 1.41-.59l7.78-7.78 2.81-2.81c.8-.78.8-2.07 0-2.86zM5.41 20L4 18.59l7.72-7.72 1.47 1.35L5.41 20z\"/>\n",
              "  </svg>\n",
              "      </button>\n",
              "      \n",
              "  <style>\n",
              "    .colab-df-container {\n",
              "      display:flex;\n",
              "      flex-wrap:wrap;\n",
              "      gap: 12px;\n",
              "    }\n",
              "\n",
              "    .colab-df-convert {\n",
              "      background-color: #E8F0FE;\n",
              "      border: none;\n",
              "      border-radius: 50%;\n",
              "      cursor: pointer;\n",
              "      display: none;\n",
              "      fill: #1967D2;\n",
              "      height: 32px;\n",
              "      padding: 0 0 0 0;\n",
              "      width: 32px;\n",
              "    }\n",
              "\n",
              "    .colab-df-convert:hover {\n",
              "      background-color: #E2EBFA;\n",
              "      box-shadow: 0px 1px 2px rgba(60, 64, 67, 0.3), 0px 1px 3px 1px rgba(60, 64, 67, 0.15);\n",
              "      fill: #174EA6;\n",
              "    }\n",
              "\n",
              "    [theme=dark] .colab-df-convert {\n",
              "      background-color: #3B4455;\n",
              "      fill: #D2E3FC;\n",
              "    }\n",
              "\n",
              "    [theme=dark] .colab-df-convert:hover {\n",
              "      background-color: #434B5C;\n",
              "      box-shadow: 0px 1px 3px 1px rgba(0, 0, 0, 0.15);\n",
              "      filter: drop-shadow(0px 1px 2px rgba(0, 0, 0, 0.3));\n",
              "      fill: #FFFFFF;\n",
              "    }\n",
              "  </style>\n",
              "\n",
              "      <script>\n",
              "        const buttonEl =\n",
              "          document.querySelector('#df-b528f9b6-f4ed-4c62-9139-1805a891b097 button.colab-df-convert');\n",
              "        buttonEl.style.display =\n",
              "          google.colab.kernel.accessAllowed ? 'block' : 'none';\n",
              "\n",
              "        async function convertToInteractive(key) {\n",
              "          const element = document.querySelector('#df-b528f9b6-f4ed-4c62-9139-1805a891b097');\n",
              "          const dataTable =\n",
              "            await google.colab.kernel.invokeFunction('convertToInteractive',\n",
              "                                                     [key], {});\n",
              "          if (!dataTable) return;\n",
              "\n",
              "          const docLinkHtml = 'Like what you see? Visit the ' +\n",
              "            '<a target=\"_blank\" href=https://colab.research.google.com/notebooks/data_table.ipynb>data table notebook</a>'\n",
              "            + ' to learn more about interactive tables.';\n",
              "          element.innerHTML = '';\n",
              "          dataTable['output_type'] = 'display_data';\n",
              "          await google.colab.output.renderOutput(dataTable, element);\n",
              "          const docLink = document.createElement('div');\n",
              "          docLink.innerHTML = docLinkHtml;\n",
              "          element.appendChild(docLink);\n",
              "        }\n",
              "      </script>\n",
              "    </div>\n",
              "  </div>\n",
              "  "
            ]
          },
          "metadata": {},
          "execution_count": 50
        }
      ]
    },
    {
      "cell_type": "code",
      "source": [
        "y_train.sample(3)"
      ],
      "metadata": {
        "id": "RLZC3AnuBbhu",
        "colab": {
          "base_uri": "https://localhost:8080/"
        },
        "outputId": "26d79722-44e4-40e0-f51d-28ddc6fe7168"
      },
      "execution_count": 51,
      "outputs": [
        {
          "output_type": "execute_result",
          "data": {
            "text/plain": [
              "1812    Non-toxic\n",
              "1096    Non-toxic\n",
              "3751        Toxic\n",
              "Name: class, dtype: object"
            ]
          },
          "metadata": {},
          "execution_count": 51
        }
      ]
    },
    {
      "cell_type": "markdown",
      "metadata": {
        "id": "PYsE-tIAhSw3"
      },
      "source": [
        "## **7. Building a Classification Model using Random Forest Classifier**"
      ]
    },
    {
      "cell_type": "markdown",
      "metadata": {
        "id": "5AmW3HdRbCiD"
      },
      "source": [
        "### **7.1 Random Forest Internal validation**"
      ]
    },
    {
      "cell_type": "markdown",
      "source": [
        "Then the classification models are built, starting with the well-established Random Forest. \n",
        "First, the scoring is defined, which is used for all subsequent cross validations. Then, a stratified 5 fold cross-validation of a Random Forest model with optimized parameters is performed and the results of this internal validation are stored in a table."
      ],
      "metadata": {
        "id": "8sGzBCBH0NAo"
      }
    },
    {
      "cell_type": "code",
      "source": [
        "# The scorers can be either one of the predefined metric strings or a scorer\n",
        "# callable, like the one returned by make_scorer\n",
        "scoring = {\"AUC\": \"roc_auc\",\n",
        "           \"Accuracy\": make_scorer(accuracy_score),\n",
        "           \"Precision\":make_scorer(precision_score, average=\"binary\", pos_label='Toxic'),\n",
        "           \"Recall\":make_scorer(recall_score, average=\"binary\", pos_label='Toxic')}"
      ],
      "metadata": {
        "id": "yMV6JWwINQY5"
      },
      "execution_count": 52,
      "outputs": []
    },
    {
      "cell_type": "code",
      "execution_count": 53,
      "metadata": {
        "id": "YHM3DCD5wuNe",
        "colab": {
          "base_uri": "https://localhost:8080/"
        },
        "outputId": "691f1d98-bed6-4a3b-ce44-bb244bb99555"
      },
      "outputs": [
        {
          "output_type": "stream",
          "name": "stdout",
          "text": [
            "Fitting 5 folds for each of 1 candidates, totalling 5 fits\n",
            "Execution time in seconds: 50.74617385864258\n"
          ]
        }
      ],
      "source": [
        "rf = RandomForestClassifier(random_state=42)\n",
        "\n",
        "parameters = {'max_depth': [40],\n",
        "              'min_samples_leaf': [1],\n",
        "              'min_samples_split': [5],\n",
        "              'n_estimators': [800]\n",
        "              }\n",
        "\n",
        "cv = StratifiedKFold(n_splits=5,shuffle=True,random_state=42)\n",
        "\n",
        "clf = GridSearchCV(rf, parameters,cv=cv,verbose=2,n_jobs=-1,scoring=scoring,refit=\"Accuracy\",return_train_score=True)\n",
        "\n",
        "startTime = time.time()\n",
        "\n",
        "#Model search\n",
        "clf.fit(X_train, y_train)\n",
        "\n",
        "executionTime = (time.time() - startTime)\n",
        "print('Execution time in seconds: ' + str(executionTime))"
      ]
    },
    {
      "cell_type": "code",
      "execution_count": 54,
      "metadata": {
        "id": "fOI66ropqRfY",
        "colab": {
          "base_uri": "https://localhost:8080/"
        },
        "outputId": "3b9a8b77-4aac-4a95-bb79-f7893a77aee9"
      },
      "outputs": [
        {
          "output_type": "stream",
          "name": "stdout",
          "text": [
            "['param_max_depth', 'param_min_samples_leaf', 'param_min_samples_split', 'param_n_estimators']\n"
          ]
        }
      ],
      "source": [
        "parameterlist = []\n",
        "for parameter in list(parameters.keys()):\n",
        "  feature = \"param_\"+parameter\n",
        "  parameterlist.append(feature)\n",
        "print(parameterlist)"
      ]
    },
    {
      "cell_type": "code",
      "source": [
        "def defineSet(row):\n",
        "    return str(row.variable).split(\"_\")[1]\n",
        "def defineMetric(row):\n",
        "    return str(row.variable).split(\"_\")[2]"
      ],
      "metadata": {
        "id": "9nXGwxc1bbF7"
      },
      "execution_count": 55,
      "outputs": []
    },
    {
      "cell_type": "code",
      "execution_count": 56,
      "metadata": {
        "id": "qfoI_QOESW0U"
      },
      "outputs": [],
      "source": [
        "dfGridsearch = pd.DataFrame(clf.cv_results_)\n",
        "droplist = ['mean_fit_time', 'std_fit_time',\n",
        "            'mean_score_time', 'std_score_time',\n",
        "            'mean_test_Accuracy','mean_test_Precision','mean_test_Recall',\n",
        "            'mean_train_Accuracy','mean_train_Precision','mean_train_Recall',\n",
        "            'std_test_Accuracy','std_test_Precision','std_test_Recall',\n",
        "            'std_train_Accuracy','std_train_Precision','std_train_Recall',\n",
        "            'rank_test_Accuracy','rank_test_Precision','rank_test_Recall',\n",
        "            'mean_test_AUC','mean_train_AUC','std_test_AUC','std_train_AUC','rank_test_AUC'\n",
        "            ]+parameterlist\n",
        "dfScoreResults = dfGridsearch.drop(droplist,axis=1)\n",
        "dfScoreResults = pd.melt(dfScoreResults, id_vars=['params'])\n",
        "dfScoreResults[\"set\"] = dfScoreResults.apply(defineSet, axis=1)\n",
        "dfScoreResults[\"metric\"] = dfScoreResults.apply(defineMetric, axis=1)\n",
        "dfScoreResults = dfScoreResults.drop([\"variable\"],axis=1)\n",
        "dfScoreResults[\"params\"]=dfScoreResults[\"params\"].astype(str)"
      ]
    },
    {
      "cell_type": "code",
      "source": [
        "# for comparison\n",
        "dfScoreRFresult = dfScoreResults\n",
        "dfScoreRFresult[\"model\"] = \"RF_model_1\" \n",
        "dfScoreRFresult[\"method\"] = \"Random Forest\" "
      ],
      "metadata": {
        "id": "eMCYPmpoXqbU"
      },
      "execution_count": 57,
      "outputs": []
    },
    {
      "cell_type": "markdown",
      "metadata": {
        "id": "H4ng6XyOb7jc"
      },
      "source": [
        "### **7.2 Random Forest External validation**"
      ]
    },
    {
      "cell_type": "markdown",
      "source": [
        "This optimized Random Forest model is now trained again with the entire training set and the time needed to train the model is recorded. Finally, the test set is predicted for external validation and the scores of the various metrics are recorded in a table. "
      ],
      "metadata": {
        "id": "xIstCIM5Pyqo"
      }
    },
    {
      "cell_type": "code",
      "source": [
        "ModelResultsTable = pd.DataFrame()"
      ],
      "metadata": {
        "id": "l1C8IN1SuwZ_"
      },
      "execution_count": 58,
      "outputs": []
    },
    {
      "cell_type": "code",
      "execution_count": 59,
      "metadata": {
        "id": "7nvOASayb6vr",
        "colab": {
          "base_uri": "https://localhost:8080/",
          "height": 115
        },
        "outputId": "0ae78b9c-121b-4dc3-bd00-114bc1b0a382"
      },
      "outputs": [
        {
          "output_type": "stream",
          "name": "stdout",
          "text": [
            "{'max_depth': 40, 'min_samples_leaf': 1, 'min_samples_split': 5, 'n_estimators': 800}\n",
            "Execution time in seconds: 10.251671552658081\n"
          ]
        },
        {
          "output_type": "execute_result",
          "data": {
            "text/plain": [
              "        Model  Accuracy  Precision    Recall   ROC_AUC  \\\n",
              "0  RF_model_1  0.778449   0.810268  0.728916  0.839183   \n",
              "\n",
              "                                              Params  ExecutionTime  \n",
              "0  {'max_depth': 40, 'min_samples_leaf': 1, 'min_...      10.251672  "
            ],
            "text/html": [
              "\n",
              "  <div id=\"df-8e085fb0-da33-4be4-a496-d2f6965dad11\">\n",
              "    <div class=\"colab-df-container\">\n",
              "      <div>\n",
              "<style scoped>\n",
              "    .dataframe tbody tr th:only-of-type {\n",
              "        vertical-align: middle;\n",
              "    }\n",
              "\n",
              "    .dataframe tbody tr th {\n",
              "        vertical-align: top;\n",
              "    }\n",
              "\n",
              "    .dataframe thead th {\n",
              "        text-align: right;\n",
              "    }\n",
              "</style>\n",
              "<table border=\"1\" class=\"dataframe\">\n",
              "  <thead>\n",
              "    <tr style=\"text-align: right;\">\n",
              "      <th></th>\n",
              "      <th>Model</th>\n",
              "      <th>Accuracy</th>\n",
              "      <th>Precision</th>\n",
              "      <th>Recall</th>\n",
              "      <th>ROC_AUC</th>\n",
              "      <th>Params</th>\n",
              "      <th>ExecutionTime</th>\n",
              "    </tr>\n",
              "  </thead>\n",
              "  <tbody>\n",
              "    <tr>\n",
              "      <th>0</th>\n",
              "      <td>RF_model_1</td>\n",
              "      <td>0.778449</td>\n",
              "      <td>0.810268</td>\n",
              "      <td>0.728916</td>\n",
              "      <td>0.839183</td>\n",
              "      <td>{'max_depth': 40, 'min_samples_leaf': 1, 'min_...</td>\n",
              "      <td>10.251672</td>\n",
              "    </tr>\n",
              "  </tbody>\n",
              "</table>\n",
              "</div>\n",
              "      <button class=\"colab-df-convert\" onclick=\"convertToInteractive('df-8e085fb0-da33-4be4-a496-d2f6965dad11')\"\n",
              "              title=\"Convert this dataframe to an interactive table.\"\n",
              "              style=\"display:none;\">\n",
              "        \n",
              "  <svg xmlns=\"http://www.w3.org/2000/svg\" height=\"24px\"viewBox=\"0 0 24 24\"\n",
              "       width=\"24px\">\n",
              "    <path d=\"M0 0h24v24H0V0z\" fill=\"none\"/>\n",
              "    <path d=\"M18.56 5.44l.94 2.06.94-2.06 2.06-.94-2.06-.94-.94-2.06-.94 2.06-2.06.94zm-11 1L8.5 8.5l.94-2.06 2.06-.94-2.06-.94L8.5 2.5l-.94 2.06-2.06.94zm10 10l.94 2.06.94-2.06 2.06-.94-2.06-.94-.94-2.06-.94 2.06-2.06.94z\"/><path d=\"M17.41 7.96l-1.37-1.37c-.4-.4-.92-.59-1.43-.59-.52 0-1.04.2-1.43.59L10.3 9.45l-7.72 7.72c-.78.78-.78 2.05 0 2.83L4 21.41c.39.39.9.59 1.41.59.51 0 1.02-.2 1.41-.59l7.78-7.78 2.81-2.81c.8-.78.8-2.07 0-2.86zM5.41 20L4 18.59l7.72-7.72 1.47 1.35L5.41 20z\"/>\n",
              "  </svg>\n",
              "      </button>\n",
              "      \n",
              "  <style>\n",
              "    .colab-df-container {\n",
              "      display:flex;\n",
              "      flex-wrap:wrap;\n",
              "      gap: 12px;\n",
              "    }\n",
              "\n",
              "    .colab-df-convert {\n",
              "      background-color: #E8F0FE;\n",
              "      border: none;\n",
              "      border-radius: 50%;\n",
              "      cursor: pointer;\n",
              "      display: none;\n",
              "      fill: #1967D2;\n",
              "      height: 32px;\n",
              "      padding: 0 0 0 0;\n",
              "      width: 32px;\n",
              "    }\n",
              "\n",
              "    .colab-df-convert:hover {\n",
              "      background-color: #E2EBFA;\n",
              "      box-shadow: 0px 1px 2px rgba(60, 64, 67, 0.3), 0px 1px 3px 1px rgba(60, 64, 67, 0.15);\n",
              "      fill: #174EA6;\n",
              "    }\n",
              "\n",
              "    [theme=dark] .colab-df-convert {\n",
              "      background-color: #3B4455;\n",
              "      fill: #D2E3FC;\n",
              "    }\n",
              "\n",
              "    [theme=dark] .colab-df-convert:hover {\n",
              "      background-color: #434B5C;\n",
              "      box-shadow: 0px 1px 3px 1px rgba(0, 0, 0, 0.15);\n",
              "      filter: drop-shadow(0px 1px 2px rgba(0, 0, 0, 0.3));\n",
              "      fill: #FFFFFF;\n",
              "    }\n",
              "  </style>\n",
              "\n",
              "      <script>\n",
              "        const buttonEl =\n",
              "          document.querySelector('#df-8e085fb0-da33-4be4-a496-d2f6965dad11 button.colab-df-convert');\n",
              "        buttonEl.style.display =\n",
              "          google.colab.kernel.accessAllowed ? 'block' : 'none';\n",
              "\n",
              "        async function convertToInteractive(key) {\n",
              "          const element = document.querySelector('#df-8e085fb0-da33-4be4-a496-d2f6965dad11');\n",
              "          const dataTable =\n",
              "            await google.colab.kernel.invokeFunction('convertToInteractive',\n",
              "                                                     [key], {});\n",
              "          if (!dataTable) return;\n",
              "\n",
              "          const docLinkHtml = 'Like what you see? Visit the ' +\n",
              "            '<a target=\"_blank\" href=https://colab.research.google.com/notebooks/data_table.ipynb>data table notebook</a>'\n",
              "            + ' to learn more about interactive tables.';\n",
              "          element.innerHTML = '';\n",
              "          dataTable['output_type'] = 'display_data';\n",
              "          await google.colab.output.renderOutput(dataTable, element);\n",
              "          const docLink = document.createElement('div');\n",
              "          docLink.innerHTML = docLinkHtml;\n",
              "          element.appendChild(docLink);\n",
              "        }\n",
              "      </script>\n",
              "    </div>\n",
              "  </div>\n",
              "  "
            ]
          },
          "metadata": {},
          "execution_count": 59
        }
      ],
      "source": [
        "print(clf.best_params_)\n",
        "model =  RandomForestClassifier(max_depth=clf.best_params_[\"max_depth\"],\n",
        "                                min_samples_leaf=clf.best_params_[\"min_samples_leaf\"],\n",
        "                                min_samples_split=clf.best_params_[\"min_samples_split\"],\n",
        "                                n_estimators=clf.best_params_[\"n_estimators\"],\n",
        "                                random_state=42)\n",
        "\n",
        "\n",
        "startTime = time.time()\n",
        "\n",
        "#Model training\n",
        "model.fit(X_train, y_train)\n",
        "\n",
        "executionTime = (time.time() - startTime)\n",
        "print('Execution time in seconds: ' + str(executionTime))\n",
        "#Accuracy / Precission / Recall / ROC auc\n",
        "y_pred = model.predict(X_test)\n",
        "acc = accuracy_score(y_test, y_pred)\n",
        "pre = precision_score(y_test, y_pred, average=\"binary\", pos_label='Toxic')\n",
        "rec = recall_score(y_test, y_pred, average=\"binary\", pos_label='Toxic')\n",
        "roc_auc = roc_auc_score(y_test, model.predict_proba(X_test)[:, 1])\n",
        "output = pd.DataFrame({\"Model\":\"RF_model_1\",\"Accuracy\":acc,\"Precision\":pre,\"Recall\":rec,\"ROC_AUC\":roc_auc,\"Params\":[clf.best_params_],\"ExecutionTime\":executionTime})\n",
        "ModelResultsTable = pd.concat([output, ModelResultsTable], ignore_index=True)\n",
        "ModelResultsTable"
      ]
    },
    {
      "cell_type": "markdown",
      "metadata": {
        "id": "hvx5SCz5VT89"
      },
      "source": [
        "## **8. Building a Classification Model using LGBMClassifier**"
      ]
    },
    {
      "cell_type": "markdown",
      "metadata": {
        "id": "5Qsuf__WVT8-"
      },
      "source": [
        "### **8.1 LightGBM Internal validation**"
      ]
    },
    {
      "cell_type": "markdown",
      "source": [
        "The next step is to create various LightGBM models using a gridsearch, combining previously defined parameters in all possible ways to create 48 different models. These models undergo the same stratified 5 fold cross validations with the same metrics as Random Forest models before. These results are also stored in a table for internal validation."
      ],
      "metadata": {
        "id": "pF6ytgJQYquD"
      }
    },
    {
      "cell_type": "code",
      "execution_count": 60,
      "metadata": {
        "id": "wtLNbe2oVT8-",
        "colab": {
          "base_uri": "https://localhost:8080/"
        },
        "outputId": "5f269c5a-8a66-43c4-9926-1946a261add8"
      },
      "outputs": [
        {
          "output_type": "stream",
          "name": "stdout",
          "text": [
            "Fitting 5 folds for each of 48 candidates, totalling 240 fits\n",
            "Execution time in seconds: 167.41392159461975\n"
          ]
        }
      ],
      "source": [
        "lgbm = LGBMClassifier(random_state=42)\n",
        "\n",
        "parameters = {\"boosting_type\":[\"gbdt\",\"dart\"],\n",
        "              \"learning_rate\":[0.063,0.126],\n",
        "              \"n_estimators\" :[6,24,96],\n",
        "              \"num_leaves\" : [32,64],\n",
        "              \"subsample_for_bin\":[60000],\n",
        "              'max_depth': [21,42]\n",
        "              }\n",
        "cv = StratifiedKFold(n_splits=5, shuffle=True,random_state=42)\n",
        "\n",
        "clf = GridSearchCV(lgbm, parameters,cv=cv,verbose=2,n_jobs=-1,scoring=scoring,refit=\"Accuracy\",return_train_score=True)\n",
        "\n",
        "startTime = time.time()\n",
        "\n",
        "#Model search\n",
        "clf.fit(X_train, y_train)\n",
        "\n",
        "executionTime = (time.time() - startTime)\n",
        "print('Execution time in seconds: ' + str(executionTime))"
      ]
    },
    {
      "cell_type": "code",
      "execution_count": 61,
      "metadata": {
        "id": "tp0gYbEFVT8-",
        "colab": {
          "base_uri": "https://localhost:8080/"
        },
        "outputId": "ff591cf6-dcbc-4821-ac38-5cc1528de4bc"
      },
      "outputs": [
        {
          "output_type": "stream",
          "name": "stdout",
          "text": [
            "['param_boosting_type', 'param_learning_rate', 'param_n_estimators', 'param_num_leaves', 'param_subsample_for_bin', 'param_max_depth']\n"
          ]
        }
      ],
      "source": [
        "parameterlist = []\n",
        "for parameter in list(parameters.keys()):\n",
        "  feature = \"param_\"+parameter\n",
        "  parameterlist.append(feature)\n",
        "print(parameterlist)"
      ]
    },
    {
      "cell_type": "code",
      "source": [
        "def defineModelName(df):\n",
        "    name = \"LGBM_model_\"\n",
        "    count = 1\n",
        "    modelNames = []\n",
        "    oldParam=[None]\n",
        "    for param in df.params:\n",
        "        if param not in oldParam:\n",
        "            count = count + 1\n",
        "            oldParam.append(param)\n",
        "        modelNames.append(name+str(oldParam.index(param)))\n",
        "    return modelNames"
      ],
      "metadata": {
        "id": "RSl_TnY9fX9I"
      },
      "execution_count": 62,
      "outputs": []
    },
    {
      "cell_type": "code",
      "execution_count": 63,
      "metadata": {
        "id": "xJxmD7akVT8_"
      },
      "outputs": [],
      "source": [
        "dfGridsearch = pd.DataFrame(clf.cv_results_)\n",
        "droplist = ['mean_fit_time', 'std_fit_time',\n",
        "            'mean_score_time', 'std_score_time',\n",
        "            'mean_test_Accuracy','mean_test_Precision','mean_test_Recall',\n",
        "            'mean_train_Accuracy','mean_train_Precision','mean_train_Recall',\n",
        "            'std_test_Accuracy','std_test_Precision','std_test_Recall',\n",
        "            'std_train_Accuracy','std_train_Precision','std_train_Recall',\n",
        "            'rank_test_Accuracy','rank_test_Precision','rank_test_Recall',\n",
        "            'mean_test_AUC','mean_train_AUC','std_test_AUC','std_train_AUC','rank_test_AUC'\n",
        "            ]+parameterlist\n",
        "dfScoreResults = dfGridsearch.drop(droplist,axis=1)\n",
        "dfScoreResults = pd.melt(dfScoreResults, id_vars=['params'])\n",
        "dfScoreResults[\"set\"] = dfScoreResults.apply(defineSet, axis=1)\n",
        "dfScoreResults[\"metric\"] = dfScoreResults.apply(defineMetric, axis=1)\n",
        "dfScoreResults = dfScoreResults.drop([\"variable\"],axis=1)\n",
        "dfScoreResults[\"params\"]=dfScoreResults[\"params\"].astype(str)\n",
        "dfScoreResults[\"method\"]= \"LightGBM\"\n",
        "dfScoreResults[\"model\"] = defineModelName(dfScoreResults)\n",
        "dfScoreResults = pd.concat([dfScoreResults,dfScoreRFresult],axis=0)"
      ]
    },
    {
      "cell_type": "code",
      "source": [
        "modelsParamsDict = dfScoreResults[[\"model\",\"params\"]].set_index('model').drop_duplicates().to_dict('index')"
      ],
      "metadata": {
        "id": "644Hwz2LVjzC"
      },
      "execution_count": 64,
      "outputs": []
    },
    {
      "cell_type": "markdown",
      "metadata": {
        "id": "mQh8Ve1tVT9A"
      },
      "source": [
        "### **8.2 LightGBM External validation**"
      ]
    },
    {
      "cell_type": "markdown",
      "source": [
        "As with the Random Forest Model, the best two LightGBM models, the models that achieved the highest average accuracy values during the internal validation, are now trained again for the external validation and evaluated with the test set. \n",
        "\n",
        "LGBM_model_12\n",
        "\n",
        "LGBM_model_6  \n",
        "\n",
        "LGBM_model_23\n",
        "\n",
        "LGBM_model_17 "
      ],
      "metadata": {
        "id": "N5jaGEN0ffdP"
      }
    },
    {
      "cell_type": "code",
      "source": [
        "clfmodel = ast.literal_eval(modelsParamsDict[\"LGBM_model_12\"][\"params\"])\n",
        "print(clfmodel)\n",
        "model =  LGBMClassifier(boosting_type=clfmodel[\"boosting_type\"],\n",
        "                        learning_rate=clfmodel['learning_rate'],\n",
        "                        n_estimators=clfmodel['n_estimators'],\n",
        "                        num_leaves=clfmodel['num_leaves'],\n",
        "                        subsample_for_bin=clfmodel[\"subsample_for_bin\"],\n",
        "                        max_depth=clfmodel[\"max_depth\"],\n",
        "                        random_state=42)\n",
        "startTime = time.time()\n",
        "\n",
        "#Model training\n",
        "model.fit(X_train, y_train)\n",
        "\n",
        "executionTime = (time.time() - startTime)\n",
        "print('Execution time in seconds: ' + str(executionTime))\n",
        "\n",
        "#Accuracy / Precission / Recall \n",
        "y_pred = model.predict(X_test)\n",
        "acc = accuracy_score(y_test, y_pred)\n",
        "pre = precision_score(y_test, y_pred, average=\"binary\", pos_label='Toxic')\n",
        "rec = recall_score(y_test, y_pred, average=\"binary\", pos_label='Toxic')\n",
        "roc_auc = roc_auc_score(y_test, model.predict_proba(X_test)[:, 1])\n",
        "\n",
        "output = pd.DataFrame({\"Model\":\"LGBM_model_12\",\"Accuracy\":acc,\"Precision\":pre,\"Recall\":rec,\"ROC_AUC\":roc_auc,\"Params\":[clfmodel],\"ExecutionTime\":executionTime})\n",
        "ModelResultsTable = pd.concat([output, ModelResultsTable], ignore_index=True)"
      ],
      "metadata": {
        "colab": {
          "base_uri": "https://localhost:8080/"
        },
        "id": "Ws7pCIrjkPvU",
        "outputId": "b4dc517d-91a6-49c6-c0b9-125865f65ea6"
      },
      "execution_count": 65,
      "outputs": [
        {
          "output_type": "stream",
          "name": "stdout",
          "text": [
            "{'boosting_type': 'gbdt', 'learning_rate': 0.063, 'max_depth': 42, 'n_estimators': 96, 'num_leaves': 64, 'subsample_for_bin': 60000}\n",
            "Execution time in seconds: 1.4061791896820068\n"
          ]
        }
      ]
    },
    {
      "cell_type": "code",
      "source": [
        "clfmodel = ast.literal_eval(modelsParamsDict[\"LGBM_model_6\"][\"params\"])\n",
        "print(clfmodel)\n",
        "model =  LGBMClassifier(boosting_type=clfmodel[\"boosting_type\"],\n",
        "                        learning_rate=clfmodel['learning_rate'],\n",
        "                        n_estimators=clfmodel['n_estimators'],\n",
        "                        num_leaves=clfmodel['num_leaves'],\n",
        "                        subsample_for_bin=clfmodel[\"subsample_for_bin\"],\n",
        "                        max_depth=clfmodel[\"max_depth\"],\n",
        "                        random_state=42)\n",
        "startTime = time.time()\n",
        "\n",
        "#Model training\n",
        "model.fit(X_train, y_train)\n",
        "\n",
        "executionTime = (time.time() - startTime)\n",
        "print('Execution time in seconds: ' + str(executionTime))\n",
        "\n",
        "#Accuracy / Precission / Recall \n",
        "y_pred = model.predict(X_test)\n",
        "acc = accuracy_score(y_test, y_pred)\n",
        "pre = precision_score(y_test, y_pred, average=\"binary\", pos_label='Toxic')\n",
        "rec = recall_score(y_test, y_pred, average=\"binary\", pos_label='Toxic')\n",
        "roc_auc = roc_auc_score(y_test, model.predict_proba(X_test)[:, 1])\n",
        "\n",
        "output = pd.DataFrame({\"Model\":\"LGBM_model_6\",\"Accuracy\":acc,\"Precision\":pre,\"Recall\":rec,\"ROC_AUC\":roc_auc,\"Params\":[clfmodel],\"ExecutionTime\":executionTime})\n",
        "ModelResultsTable = pd.concat([output, ModelResultsTable], ignore_index=True)"
      ],
      "metadata": {
        "colab": {
          "base_uri": "https://localhost:8080/"
        },
        "id": "9evOZ9YykL7G",
        "outputId": "912855da-881c-4e31-f371-de81fe654f07"
      },
      "execution_count": 66,
      "outputs": [
        {
          "output_type": "stream",
          "name": "stdout",
          "text": [
            "{'boosting_type': 'gbdt', 'learning_rate': 0.063, 'max_depth': 21, 'n_estimators': 96, 'num_leaves': 64, 'subsample_for_bin': 60000}\n",
            "Execution time in seconds: 1.3614685535430908\n"
          ]
        }
      ]
    },
    {
      "cell_type": "code",
      "source": [
        "clfmodel = ast.literal_eval(modelsParamsDict[\"LGBM_model_23\"][\"params\"])\n",
        "print(clfmodel)\n",
        "model =  LGBMClassifier(boosting_type=clfmodel[\"boosting_type\"],\n",
        "                        learning_rate=clfmodel['learning_rate'],\n",
        "                        n_estimators=clfmodel['n_estimators'],\n",
        "                        num_leaves=clfmodel['num_leaves'],\n",
        "                        subsample_for_bin=clfmodel[\"subsample_for_bin\"],\n",
        "                        max_depth=clfmodel[\"max_depth\"],\n",
        "                        random_state=42)\n",
        "startTime = time.time()\n",
        "\n",
        "#Model training\n",
        "model.fit(X_train, y_train)\n",
        "\n",
        "executionTime = (time.time() - startTime)\n",
        "print('Execution time in seconds: ' + str(executionTime))\n",
        "\n",
        "#Accuracy / Precission / Recall \n",
        "y_pred = model.predict(X_test)\n",
        "acc = accuracy_score(y_test, y_pred)\n",
        "pre = precision_score(y_test, y_pred, average=\"binary\", pos_label='Toxic')\n",
        "rec = recall_score(y_test, y_pred, average=\"binary\", pos_label='Toxic')\n",
        "roc_auc = roc_auc_score(y_test, model.predict_proba(X_test)[:, 1])\n",
        "\n",
        "output = pd.DataFrame({\"Model\":\"LGBM_model_23\",\"Accuracy\":acc,\"Precision\":pre,\"Recall\":rec,\"ROC_AUC\":roc_auc,\"Params\":[clfmodel],\"ExecutionTime\":executionTime})\n",
        "ModelResultsTable = pd.concat([output, ModelResultsTable], ignore_index=True)"
      ],
      "metadata": {
        "id": "lNzaXob-8ApM",
        "colab": {
          "base_uri": "https://localhost:8080/"
        },
        "outputId": "f4790128-5774-46ca-d2eb-7acf7574ec8b"
      },
      "execution_count": 67,
      "outputs": [
        {
          "output_type": "stream",
          "name": "stdout",
          "text": [
            "{'boosting_type': 'gbdt', 'learning_rate': 0.126, 'max_depth': 42, 'n_estimators': 96, 'num_leaves': 32, 'subsample_for_bin': 60000}\n",
            "Execution time in seconds: 0.9652514457702637\n"
          ]
        }
      ]
    },
    {
      "cell_type": "code",
      "execution_count": 68,
      "metadata": {
        "id": "yDZK1gopVT9A",
        "colab": {
          "base_uri": "https://localhost:8080/"
        },
        "outputId": "5e53f74e-1a77-4b59-8e08-5e306f98e91b"
      },
      "outputs": [
        {
          "output_type": "stream",
          "name": "stdout",
          "text": [
            "{'boosting_type': 'gbdt', 'learning_rate': 0.126, 'max_depth': 21, 'n_estimators': 96, 'num_leaves': 32, 'subsample_for_bin': 60000}\n",
            "Execution time in seconds: 0.9613444805145264\n"
          ]
        }
      ],
      "source": [
        "clfmodel = ast.literal_eval(modelsParamsDict[\"LGBM_model_17\"][\"params\"])\n",
        "print(clfmodel)\n",
        "model =  LGBMClassifier(boosting_type=clfmodel[\"boosting_type\"],\n",
        "                        learning_rate=clfmodel['learning_rate'],\n",
        "                        n_estimators=clfmodel['n_estimators'],\n",
        "                        num_leaves=clfmodel['num_leaves'],\n",
        "                        subsample_for_bin=clfmodel[\"subsample_for_bin\"],\n",
        "                        max_depth=clfmodel[\"max_depth\"],\n",
        "                        random_state=42)\n",
        "\n",
        "startTime = time.time()\n",
        "\n",
        "#Model training\n",
        "model.fit(X_train, y_train)\n",
        "\n",
        "executionTime = (time.time() - startTime)\n",
        "print('Execution time in seconds: ' + str(executionTime))\n",
        "\n",
        "#Accuracy / Precission / Recall \n",
        "y_pred = model.predict(X_test)\n",
        "acc = accuracy_score(y_test, y_pred)\n",
        "pre = precision_score(y_test, y_pred, average=\"binary\", pos_label='Toxic')\n",
        "rec = recall_score(y_test, y_pred, average=\"binary\", pos_label='Toxic')\n",
        "roc_auc = roc_auc_score(y_test, model.predict_proba(X_test)[:, 1])\n",
        "\n",
        "output = pd.DataFrame({\"Model\":\"LGBM_model_17\",\"Accuracy\":acc,\"Precision\":pre,\"Recall\":rec,\"ROC_AUC\":roc_auc,\"Params\":[clfmodel],\"ExecutionTime\":executionTime})\n",
        "ModelResultsTable = pd.concat([output, ModelResultsTable], ignore_index=True)"
      ]
    },
    {
      "cell_type": "markdown",
      "source": [
        "## **9. Results**"
      ],
      "metadata": {
        "id": "aO0kejrZaHZx"
      }
    },
    {
      "cell_type": "markdown",
      "source": [
        "The two datasets from C. S. M. Chu et al. were used as the data basis, comprising a total of 5395 molecules in SMILES form and their genotoxic properties split into two sets, a training set of 4402 molecules and a test set of 993 molecules. From these molecules, 881 substructure fingerprints were calculated to characterize the structure of the compound and to use as features for the next step of screening.\n",
        "\n",
        "A total of 48 different LightGBM QSAR models were created. All created models achieved a good performance during the five-fold cross-validation with respect to accuracy 0.801 ± 0.024. The best LightGBM model showed an accuracy of 0.827± 0.016. The additionally created reference Random Forest model achieved an accuracy of 0.825 ± 0.026 during the five-fold cross-validation, which is only marginally worse compared to the LightGBM. Also the other two metrics Precision and Recall over the LightGBM models show only minor differences to the Random Forest model.\n",
        "\n",
        "In the external validation with the test data set, both best LightGBM models showed a performance of accuracy 0.774, precision 0.798 and recall 0.737. The reference RF model showed a performance of accuracy 0.779, precision 0.808 and recall 0.735, which is only in accuracy and precision marginally better compared to the LightGBM. But there is a clear difference in the time needed to train a model, the Random Forest needed about 10 seconds whereas the LightGBM models needed only about 1 second.\n",
        "\n"
      ],
      "metadata": {
        "id": "CpIaKX0tfrrF"
      }
    },
    {
      "cell_type": "markdown",
      "source": [
        "### **9.1 Random Forest Internal validation**"
      ],
      "metadata": {
        "id": "WUkLFFQJ2YhW"
      }
    },
    {
      "cell_type": "code",
      "execution_count": 69,
      "metadata": {
        "id": "7nTvT8HiUAAh",
        "colab": {
          "base_uri": "https://localhost:8080/",
          "height": 519
        },
        "outputId": "0a3855ee-1ed1-438d-cca7-cb2e5794d885"
      },
      "outputs": [
        {
          "output_type": "display_data",
          "data": {
            "text/plain": [
              "<Figure size 288x576 with 1 Axes>"
            ],
            "image/png": "[encoded data removed]"
          },
          "metadata": {}
        }
      ],
      "source": [
        "sns.set_style(\"whitegrid\")\n",
        "sns.set(rc = {'figure.figsize':(4,8)})\n",
        "ax = sns.boxplot(x=\"set\", y=\"value\", hue=\"metric\", data=dfScoreResults[dfScoreResults[\"method\"]==\"Random Forest\"])\n",
        "ax.set_xticklabels(ax.get_xticklabels(),rotation = 90)\n",
        "plt.plot()\n",
        "plt.savefig('result_RF_TrainVsTest.pdf')"
      ]
    },
    {
      "cell_type": "markdown",
      "source": [
        "### **9.2 LightGBM Internal validation**"
      ],
      "metadata": {
        "id": "-dSwLmMhIwoF"
      }
    },
    {
      "cell_type": "code",
      "source": [
        "print(\"\\n Mean of Accuracy:\\n\",dfScoreResults[(dfScoreResults[\"metric\"]==\"Accuracy\")&(dfScoreResults[\"set\"]==\"test\")].groupby([\"method\"]).mean())\n",
        "print(\"\\n Std of Accuracy:\\n\",dfScoreResults[(dfScoreResults[\"metric\"]==\"Accuracy\")&(dfScoreResults[\"set\"]==\"test\")].groupby([\"method\"]).std())"
      ],
      "metadata": {
        "id": "E_Fa7MaiZsvn",
        "colab": {
          "base_uri": "https://localhost:8080/"
        },
        "outputId": "d4e2bdac-c467-4133-d223-c8c64f9fe027"
      },
      "execution_count": 70,
      "outputs": [
        {
          "output_type": "stream",
          "name": "stdout",
          "text": [
            "\n",
            " Mean of Accuracy:\n",
            "                   value\n",
            "method                 \n",
            "LightGBM       0.802545\n",
            "Random Forest  0.825989\n",
            "\n",
            " Std of Accuracy:\n",
            "                   value\n",
            "method                 \n",
            "LightGBM       0.024988\n",
            "Random Forest  0.015246\n"
          ]
        }
      ]
    },
    {
      "cell_type": "code",
      "source": [
        "print(\"\\n Mean of Precision:\\n\",dfScoreResults[(dfScoreResults[\"metric\"]==\"Precision\")&(dfScoreResults[\"set\"]==\"test\")].groupby([\"method\"]).mean())\n",
        "print(\"\\n Std of Precision:\\n\",dfScoreResults[(dfScoreResults[\"metric\"]==\"Precision\")&(dfScoreResults[\"set\"]==\"test\")].groupby([\"method\"]).std())"
      ],
      "metadata": {
        "id": "RbHUo3bRJkia",
        "colab": {
          "base_uri": "https://localhost:8080/"
        },
        "outputId": "44f5be7b-bb01-4a91-c0a4-cd459deb47dd"
      },
      "execution_count": 71,
      "outputs": [
        {
          "output_type": "stream",
          "name": "stdout",
          "text": [
            "\n",
            " Mean of Precision:\n",
            "                   value\n",
            "method                 \n",
            "LightGBM       0.806941\n",
            "Random Forest  0.841418\n",
            "\n",
            " Std of Precision:\n",
            "                   value\n",
            "method                 \n",
            "LightGBM       0.034124\n",
            "Random Forest  0.011698\n"
          ]
        }
      ]
    },
    {
      "cell_type": "code",
      "source": [
        "print(\"\\n Mean of Recall:\\n\",dfScoreResults[(dfScoreResults[\"metric\"]==\"Recall\")&(dfScoreResults[\"set\"]==\"test\")].groupby([\"method\"]).mean())\n",
        "print(\"\\n Std of Recall:\\n\",dfScoreResults[(dfScoreResults[\"metric\"]==\"Recall\")&(dfScoreResults[\"set\"]==\"test\")].groupby([\"method\"]).std())"
      ],
      "metadata": {
        "id": "4e6Aj6rnJz66",
        "colab": {
          "base_uri": "https://localhost:8080/"
        },
        "outputId": "850c8a5a-6b1c-4de5-ecec-0d02e54a5d67"
      },
      "execution_count": 72,
      "outputs": [
        {
          "output_type": "stream",
          "name": "stdout",
          "text": [
            "\n",
            " Mean of Recall:\n",
            "                   value\n",
            "method                 \n",
            "LightGBM       0.869535\n",
            "Random Forest  0.861909\n",
            "\n",
            " Std of Recall:\n",
            "                   value\n",
            "method                 \n",
            "LightGBM       0.024034\n",
            "Random Forest  0.015635\n"
          ]
        }
      ]
    },
    {
      "cell_type": "code",
      "source": [
        "dfScoreResultsByParams = dfScoreResults[(dfScoreResults[\"metric\"]==\"Accuracy\")&(dfScoreResults[\"set\"]==\"test\")].groupby([\"model\"]).mean()\n",
        "dfScoreResultsByParams = dfScoreResultsByParams.sort_values('value', ascending = False)\n",
        "dfScoreResultsByParamsSubset = dfScoreResultsByParams[dfScoreResultsByParams.value > 0.8259]\n",
        "print(\"\\nMean Accuracy of best models:\\n\",dfScoreResultsByParamsSubset)\n",
        "bestModels = list(dfScoreResultsByParamsSubset.index)\n",
        "print(\"\\n\\nmodels showing best accuracy in internal validation: \\n\",bestModels)\n",
        "dfScoreResultsByParamsSTD = dfScoreResults[(dfScoreResults[\"metric\"]==\"Accuracy\")&(dfScoreResults[\"set\"]==\"test\")].groupby([\"model\"]).std()\n",
        "dfScoreResultsByParamsSTDSubset = dfScoreResultsByParamsSTD[dfScoreResultsByParams.value > 0.8259]\n",
        "print(\"\\n Std Accuracy of best models:\\n\",dfScoreResultsByParamsSTDSubset)"
      ],
      "metadata": {
        "id": "jjvfp0lgiYKH",
        "colab": {
          "base_uri": "https://localhost:8080/"
        },
        "outputId": "c1db2d6a-4bf3-41d2-9759-7529e50e674a"
      },
      "execution_count": 73,
      "outputs": [
        {
          "output_type": "stream",
          "name": "stdout",
          "text": [
            "\n",
            "Mean Accuracy of best models:\n",
            "                   value\n",
            "model                  \n",
            "LGBM_model_12  0.829174\n",
            "LGBM_model_6   0.827128\n",
            "LGBM_model_23  0.826220\n",
            "LGBM_model_17  0.825993\n",
            "RF_model_1     0.825989\n",
            "\n",
            "\n",
            "models showing best accuracy in internal validation: \n",
            " ['LGBM_model_12', 'LGBM_model_6', 'LGBM_model_23', 'LGBM_model_17', 'RF_model_1']\n",
            "\n",
            " Std Accuracy of best models:\n",
            "                   value\n",
            "model                  \n",
            "LGBM_model_12  0.020204\n",
            "LGBM_model_17  0.019751\n",
            "LGBM_model_23  0.019612\n",
            "LGBM_model_6   0.019421\n",
            "RF_model_1     0.015246\n"
          ]
        },
        {
          "output_type": "stream",
          "name": "stderr",
          "text": [
            "/usr/local/lib/python3.7/dist-packages/ipykernel_launcher.py:8: UserWarning: Boolean Series key will be reindexed to match DataFrame index.\n",
            "  \n"
          ]
        }
      ]
    },
    {
      "cell_type": "code",
      "execution_count": 74,
      "metadata": {
        "id": "N0Wj7ji0VT8_",
        "colab": {
          "base_uri": "https://localhost:8080/",
          "height": 599
        },
        "outputId": "25090b47-e147-4a4b-a5be-5c7932f14855"
      },
      "outputs": [
        {
          "output_type": "display_data",
          "data": {
            "text/plain": [
              "<Figure size 1080x576 with 1 Axes>"
            ],
            "image/png": "[encoded data removed]"
          },
          "metadata": {}
        }
      ],
      "source": [
        "sns.set_style(\"whitegrid\")\n",
        "sns.set(rc = {'figure.figsize':(15,8)})\n",
        "ax = sns.boxplot(x=\"model\", y=\"value\",hue=\"method\", data=dfScoreResults[(dfScoreResults[\"metric\"]==\"Accuracy\")&(dfScoreResults[\"set\"]==\"test\")],palette=\"Greys\")\n",
        "ax.set_xticklabels(ax.get_xticklabels(),rotation = 90)\n",
        "ax.set(title='Accuracy')\n",
        "plt.plot()\n",
        "plt.savefig('result_Acc_RF-Vs-LGBM.pdf')"
      ]
    },
    {
      "cell_type": "code",
      "source": [
        "sns.set_style(\"whitegrid\")\n",
        "sns.set(rc = {'figure.figsize':(4,8)})\n",
        "ax = sns.boxplot(x=\"model\", y=\"value\", hue=\"metric\", data=dfScoreResults[(dfScoreResults[\"model\"].isin(bestModels))&(dfScoreResults[\"set\"]==\"test\")])\n",
        "ax.set_xticklabels(ax.get_xticklabels(),rotation = 90)\n",
        "ax.set(title='Internal validation best models')\n",
        "plt.plot()\n",
        "plt.savefig('result_Acc_RF-Vs-BestLGBM.pdf')"
      ],
      "metadata": {
        "id": "_2P1ciG1CvPP",
        "colab": {
          "base_uri": "https://localhost:8080/",
          "height": 599
        },
        "outputId": "56920850-1015-4f56-e987-9fbdebf0052d"
      },
      "execution_count": 75,
      "outputs": [
        {
          "output_type": "display_data",
          "data": {
            "text/plain": [
              "<Figure size 288x576 with 1 Axes>"
            ],
            "image/png": "[encoded data removed]"
          },
          "metadata": {}
        }
      ]
    },
    {
      "cell_type": "code",
      "source": [
        "sns.set_style(\"whitegrid\")\n",
        "sns.set(rc = {'figure.figsize':(8,4)})\n",
        "ax = sns.boxplot(x=\"value\", y=\"model\", hue=\"metric\", data=dfScoreResults[(dfScoreResults[\"model\"].isin(bestModels))&(dfScoreResults[\"set\"]==\"test\")])\n",
        "ax.set(title='Internal validation best models')\n",
        "plt.plot()\n",
        "plt.savefig('result_Acc_RF-Vs-BestLGBM2.pdf')"
      ],
      "metadata": {
        "id": "PqWvLX_eU5rI",
        "colab": {
          "base_uri": "https://localhost:8080/",
          "height": 301
        },
        "outputId": "15c48f22-06a1-4d18-ea9d-b141a7e66b4e"
      },
      "execution_count": 76,
      "outputs": [
        {
          "output_type": "display_data",
          "data": {
            "text/plain": [
              "<Figure size 576x288 with 1 Axes>"
            ],
            "image/png": "[encoded data removed]"
          },
          "metadata": {}
        }
      ]
    },
    {
      "cell_type": "markdown",
      "source": [
        "### **9.3 External validation**"
      ],
      "metadata": {
        "id": "ukLZd9yI3CfL"
      }
    },
    {
      "cell_type": "code",
      "source": [
        "ModelResultsTable.to_csv('ames-Results.csv', index=False)"
      ],
      "metadata": {
        "id": "xrKGYqKo2Q8Q"
      },
      "execution_count": 77,
      "outputs": []
    },
    {
      "cell_type": "code",
      "source": [
        "ModelResultsTable"
      ],
      "metadata": {
        "id": "UmGEIadQIKIh",
        "colab": {
          "base_uri": "https://localhost:8080/",
          "height": 206
        },
        "outputId": "602b26af-a8e1-4735-d544-484580dbb852"
      },
      "execution_count": 78,
      "outputs": [
        {
          "output_type": "execute_result",
          "data": {
            "text/plain": [
              "           Model  Accuracy  Precision    Recall   ROC_AUC  \\\n",
              "0  LGBM_model_17  0.774421   0.797826  0.736948  0.836433   \n",
              "1  LGBM_model_23  0.774421   0.797826  0.736948  0.836433   \n",
              "2   LGBM_model_6  0.771400   0.792657  0.736948  0.835183   \n",
              "3  LGBM_model_12  0.765358   0.777778  0.744980  0.835828   \n",
              "4     RF_model_1  0.778449   0.810268  0.728916  0.839183   \n",
              "\n",
              "                                              Params  ExecutionTime  \n",
              "0  {'boosting_type': 'gbdt', 'learning_rate': 0.1...       0.961344  \n",
              "1  {'boosting_type': 'gbdt', 'learning_rate': 0.1...       0.965251  \n",
              "2  {'boosting_type': 'gbdt', 'learning_rate': 0.0...       1.361469  \n",
              "3  {'boosting_type': 'gbdt', 'learning_rate': 0.0...       1.406179  \n",
              "4  {'max_depth': 40, 'min_samples_leaf': 1, 'min_...      10.251672  "
            ],
            "text/html": [
              "\n",
              "  <div id=\"df-34dff49c-c6a4-404e-80f0-ca52cfbeb98b\">\n",
              "    <div class=\"colab-df-container\">\n",
              "      <div>\n",
              "<style scoped>\n",
              "    .dataframe tbody tr th:only-of-type {\n",
              "        vertical-align: middle;\n",
              "    }\n",
              "\n",
              "    .dataframe tbody tr th {\n",
              "        vertical-align: top;\n",
              "    }\n",
              "\n",
              "    .dataframe thead th {\n",
              "        text-align: right;\n",
              "    }\n",
              "</style>\n",
              "<table border=\"1\" class=\"dataframe\">\n",
              "  <thead>\n",
              "    <tr style=\"text-align: right;\">\n",
              "      <th></th>\n",
              "      <th>Model</th>\n",
              "      <th>Accuracy</th>\n",
              "      <th>Precision</th>\n",
              "      <th>Recall</th>\n",
              "      <th>ROC_AUC</th>\n",
              "      <th>Params</th>\n",
              "      <th>ExecutionTime</th>\n",
              "    </tr>\n",
              "  </thead>\n",
              "  <tbody>\n",
              "    <tr>\n",
              "      <th>0</th>\n",
              "      <td>LGBM_model_17</td>\n",
              "      <td>0.774421</td>\n",
              "      <td>0.797826</td>\n",
              "      <td>0.736948</td>\n",
              "      <td>0.836433</td>\n",
              "      <td>{'boosting_type': 'gbdt', 'learning_rate': 0.1...</td>\n",
              "      <td>0.961344</td>\n",
              "    </tr>\n",
              "    <tr>\n",
              "      <th>1</th>\n",
              "      <td>LGBM_model_23</td>\n",
              "      <td>0.774421</td>\n",
              "      <td>0.797826</td>\n",
              "      <td>0.736948</td>\n",
              "      <td>0.836433</td>\n",
              "      <td>{'boosting_type': 'gbdt', 'learning_rate': 0.1...</td>\n",
              "      <td>0.965251</td>\n",
              "    </tr>\n",
              "    <tr>\n",
              "      <th>2</th>\n",
              "      <td>LGBM_model_6</td>\n",
              "      <td>0.771400</td>\n",
              "      <td>0.792657</td>\n",
              "      <td>0.736948</td>\n",
              "      <td>0.835183</td>\n",
              "      <td>{'boosting_type': 'gbdt', 'learning_rate': 0.0...</td>\n",
              "      <td>1.361469</td>\n",
              "    </tr>\n",
              "    <tr>\n",
              "      <th>3</th>\n",
              "      <td>LGBM_model_12</td>\n",
              "      <td>0.765358</td>\n",
              "      <td>0.777778</td>\n",
              "      <td>0.744980</td>\n",
              "      <td>0.835828</td>\n",
              "      <td>{'boosting_type': 'gbdt', 'learning_rate': 0.0...</td>\n",
              "      <td>1.406179</td>\n",
              "    </tr>\n",
              "    <tr>\n",
              "      <th>4</th>\n",
              "      <td>RF_model_1</td>\n",
              "      <td>0.778449</td>\n",
              "      <td>0.810268</td>\n",
              "      <td>0.728916</td>\n",
              "      <td>0.839183</td>\n",
              "      <td>{'max_depth': 40, 'min_samples_leaf': 1, 'min_...</td>\n",
              "      <td>10.251672</td>\n",
              "    </tr>\n",
              "  </tbody>\n",
              "</table>\n",
              "</div>\n",
              "      <button class=\"colab-df-convert\" onclick=\"convertToInteractive('df-34dff49c-c6a4-404e-80f0-ca52cfbeb98b')\"\n",
              "              title=\"Convert this dataframe to an interactive table.\"\n",
              "              style=\"display:none;\">\n",
              "        \n",
              "  <svg xmlns=\"http://www.w3.org/2000/svg\" height=\"24px\"viewBox=\"0 0 24 24\"\n",
              "       width=\"24px\">\n",
              "    <path d=\"M0 0h24v24H0V0z\" fill=\"none\"/>\n",
              "    <path d=\"M18.56 5.44l.94 2.06.94-2.06 2.06-.94-2.06-.94-.94-2.06-.94 2.06-2.06.94zm-11 1L8.5 8.5l.94-2.06 2.06-.94-2.06-.94L8.5 2.5l-.94 2.06-2.06.94zm10 10l.94 2.06.94-2.06 2.06-.94-2.06-.94-.94-2.06-.94 2.06-2.06.94z\"/><path d=\"M17.41 7.96l-1.37-1.37c-.4-.4-.92-.59-1.43-.59-.52 0-1.04.2-1.43.59L10.3 9.45l-7.72 7.72c-.78.78-.78 2.05 0 2.83L4 21.41c.39.39.9.59 1.41.59.51 0 1.02-.2 1.41-.59l7.78-7.78 2.81-2.81c.8-.78.8-2.07 0-2.86zM5.41 20L4 18.59l7.72-7.72 1.47 1.35L5.41 20z\"/>\n",
              "  </svg>\n",
              "      </button>\n",
              "      \n",
              "  <style>\n",
              "    .colab-df-container {\n",
              "      display:flex;\n",
              "      flex-wrap:wrap;\n",
              "      gap: 12px;\n",
              "    }\n",
              "\n",
              "    .colab-df-convert {\n",
              "      background-color: #E8F0FE;\n",
              "      border: none;\n",
              "      border-radius: 50%;\n",
              "      cursor: pointer;\n",
              "      display: none;\n",
              "      fill: #1967D2;\n",
              "      height: 32px;\n",
              "      padding: 0 0 0 0;\n",
              "      width: 32px;\n",
              "    }\n",
              "\n",
              "    .colab-df-convert:hover {\n",
              "      background-color: #E2EBFA;\n",
              "      box-shadow: 0px 1px 2px rgba(60, 64, 67, 0.3), 0px 1px 3px 1px rgba(60, 64, 67, 0.15);\n",
              "      fill: #174EA6;\n",
              "    }\n",
              "\n",
              "    [theme=dark] .colab-df-convert {\n",
              "      background-color: #3B4455;\n",
              "      fill: #D2E3FC;\n",
              "    }\n",
              "\n",
              "    [theme=dark] .colab-df-convert:hover {\n",
              "      background-color: #434B5C;\n",
              "      box-shadow: 0px 1px 3px 1px rgba(0, 0, 0, 0.15);\n",
              "      filter: drop-shadow(0px 1px 2px rgba(0, 0, 0, 0.3));\n",
              "      fill: #FFFFFF;\n",
              "    }\n",
              "  </style>\n",
              "\n",
              "      <script>\n",
              "        const buttonEl =\n",
              "          document.querySelector('#df-34dff49c-c6a4-404e-80f0-ca52cfbeb98b button.colab-df-convert');\n",
              "        buttonEl.style.display =\n",
              "          google.colab.kernel.accessAllowed ? 'block' : 'none';\n",
              "\n",
              "        async function convertToInteractive(key) {\n",
              "          const element = document.querySelector('#df-34dff49c-c6a4-404e-80f0-ca52cfbeb98b');\n",
              "          const dataTable =\n",
              "            await google.colab.kernel.invokeFunction('convertToInteractive',\n",
              "                                                     [key], {});\n",
              "          if (!dataTable) return;\n",
              "\n",
              "          const docLinkHtml = 'Like what you see? Visit the ' +\n",
              "            '<a target=\"_blank\" href=https://colab.research.google.com/notebooks/data_table.ipynb>data table notebook</a>'\n",
              "            + ' to learn more about interactive tables.';\n",
              "          element.innerHTML = '';\n",
              "          dataTable['output_type'] = 'display_data';\n",
              "          await google.colab.output.renderOutput(dataTable, element);\n",
              "          const docLink = document.createElement('div');\n",
              "          docLink.innerHTML = docLinkHtml;\n",
              "          element.appendChild(docLink);\n",
              "        }\n",
              "      </script>\n",
              "    </div>\n",
              "  </div>\n",
              "  "
            ]
          },
          "metadata": {},
          "execution_count": 78
        }
      ]
    },
    {
      "cell_type": "code",
      "source": [
        "resultsTable = ModelResultsTable.drop([\"Params\"],axis=1)\n",
        "resultsTable = resultsTable.set_index('Model')\n",
        "sns.set(rc = {'figure.figsize':(8,4)})\n",
        "ax = sns.heatmap(resultsTable, annot=True, fmt='.3g',linewidths=.5, cmap=\"seismic\",vmin=.65,vmax=.85)\n",
        "ax.set(title='External validation best models')\n",
        "plt.savefig('result_RF-Vs-BestLGBM2.pdf')"
      ],
      "metadata": {
        "id": "dHSi_v_PT_SS",
        "colab": {
          "base_uri": "https://localhost:8080/",
          "height": 285
        },
        "outputId": "4159b553-fe9c-4d2e-8034-5942538a8c0f"
      },
      "execution_count": 79,
      "outputs": [
        {
          "output_type": "display_data",
          "data": {
            "text/plain": [
              "<Figure size 576x288 with 2 Axes>"
            ],
            "image/png": "[encoded data removed]"
          },
          "metadata": {}
        }
      ]
    },
    {
      "cell_type": "markdown",
      "source": [
        "## **10. Conclusions**\n",
        "The LightGBM is slowly finding its way into practical use and may replace the RF as the most popular classifier. Our study shows that the emerging LightGBM also has potential in QSAR model and can deliver equally good results as the popular Random Forest. Both methods delivered comparable accuracy, recall and precision scores, in the internal and external validation, predicting the genotoxicity of small molecules.\n",
        "\n"
      ],
      "metadata": {
        "id": "-Fr0AEZ1gYPI"
      }
    },
    {
      "cell_type": "markdown",
      "metadata": {
        "id": "U-rK8l0wWnKK"
      },
      "source": [
        "### **Zip files**"
      ]
    },
    {
      "cell_type": "code",
      "execution_count": 80,
      "metadata": {
        "id": "GW1ZSsfJWqbM",
        "colab": {
          "base_uri": "https://localhost:8080/"
        },
        "outputId": "17d0ee1c-7d99-4e1b-8ad8-e8ed0585ad8e"
      },
      "outputs": [
        {
          "output_type": "stream",
          "name": "stdout",
          "text": [
            "  adding: result_Acc_RF-Vs-LGBM.pdf (deflated 24%)\n",
            "  adding: result_Acc_RF-Vs-BestLGBM2.pdf (deflated 28%)\n",
            "  adding: ames-Results.csv (deflated 62%)\n",
            "  adding: result_Acc_RF-Vs-BestLGBM.pdf (deflated 28%)\n",
            "  adding: result_RF_TrainVsTest.pdf (deflated 29%)\n",
            "  adding: result_RF-Vs-BestLGBM2.pdf (deflated 32%)\n"
          ]
        }
      ],
      "source": [
        "! zip -r results.zip . -i *.csv *.pdf"
      ]
    }
  ],
  "metadata": {
    "colab": {
      "collapsed_sections": [],
      "name": "Genotoxicity_Classifier.ipynb",
      "provenance": [],
      "include_colab_link": true
    },
    "kernelspec": {
      "display_name": "Python 3",
      "language": "python",
      "name": "python3"
    },
    "language_info": {
      "codemirror_mode": {
        "name": "ipython",
        "version": 3
      },
      "file_extension": ".py",
      "mimetype": "text/x-python",
      "name": "python",
      "nbconvert_exporter": "python",
      "pygments_lexer": "ipython3",
      "version": "3.7.6"
    }
  },
  "nbformat": 4,
  "nbformat_minor": 0
}